{
 "cells": [
  {
   "cell_type": "code",
   "execution_count": 1,
   "id": "75364ffc-506f-445c-8e74-1568b3ff6388",
   "metadata": {},
   "outputs": [
    {
     "name": "stderr",
     "output_type": "stream",
     "text": [
      "pybullet build time: Nov 28 2023 23:45:17\n"
     ]
    }
   ],
   "source": [
    "import crocoddyl\n",
    "import mujoco\n",
    "import mujoco.viewer\n",
    "import mim_solvers\n",
    "import numpy as np\n",
    "import matplotlib.pyplot as plt\n",
    "import hppfcl\n",
    "import time\n",
    "from os.path import dirname, join, abspath\n",
    "np.set_printoptions(precision=4, linewidth=180)\n",
    "\n",
    "import pin_utils, mpc_utils\n",
    "from Kuka_utils import *\n",
    "from Kuka_model import *\n",
    "from Kuka_Mujoco_utils import *\n",
    "from IRL_solver import IRL_Crocoddyl\n",
    "import pinocchio as pin\n",
    "from pinocchio.visualize import MeshcatVisualizer\n",
    "\n",
    "from mim_robots.pybullet.env import BulletEnvWithGround\n",
    "from mim_robots.robot_loader import load_bullet_wrapper, load_mujoco_model, get_robot_list, load_pinocchio_wrapper\n",
    "from mim_robots.robot_list import MiM_Robots\n",
    "from numpy.linalg import norm, solve\n",
    "from scipy.spatial.transform import Rotation as R\n",
    "from scipy.optimize import minimize\n",
    "from scipy.optimize import Bounds\n"
   ]
  },
  {
   "cell_type": "code",
   "execution_count": 2,
   "id": "4ce5e076-8e53-4cfa-bde5-cd503558ee45",
   "metadata": {},
   "outputs": [],
   "source": [
    "%run -i 'init.py'"
   ]
  },
  {
   "cell_type": "code",
   "execution_count": 3,
   "id": "e613c132-b09d-4fdc-b5ea-25ba60ebbd65",
   "metadata": {},
   "outputs": [],
   "source": [
    "obs_set = obstacle_set()\n",
    "obs_set.add_obs(np.array([0.65, -0.05, 0.7]), l = 0.05, col_r = 0.15)\n",
    "obs_set.add_obs(np.array([0.65, -0.15, 0.45]), l = 0.1, col_r = 0.15)\n",
    "obs_set.add_obs(np.array([0.65, -0.25, 0.7]), l = 0.1, col_r = 0.15)\n",
    "obs_num = obs_set.obs_num"
   ]
  },
  {
   "cell_type": "code",
   "execution_count": 4,
   "id": "0ad45435-aa63-4a35-bc86-e97b08da5d0b",
   "metadata": {},
   "outputs": [],
   "source": [
    "# endeff frame translation goal\n",
    "endeff_frame_id = pin_model.getFrameId(\"contact\")\n",
    "endeff_joint_id = pin_model.getJointId(\"contact\")\n",
    "# endeff_translation = pin_data.oMf[endeff_frame_id].translation.copy()\n",
    "endeff_translation = np.array([0.4,  -0.5,  0.35])"
   ]
  },
  {
   "cell_type": "code",
   "execution_count": 5,
   "id": "d05aa449-341c-499d-8b38-02a8477d245a",
   "metadata": {},
   "outputs": [],
   "source": [
    "w_run = {\n",
    "    'translation': .1,\n",
    "    'xReg': 0.1,\n",
    "    'uReg': 0.0001\n",
    "}\n",
    "\n",
    "w_term = {\n",
    "    'translation': 10,\n",
    "    'xReg': 0.1\n",
    "}\n",
    "\n",
    "w_run_bad = {\n",
    "    'translation': .0,\n",
    "    'xReg': 0.1,\n",
    "    'uReg': 0.0001\n",
    "}\n",
    "\n",
    "w_term_bad = {\n",
    "    'translation': 0.1,\n",
    "    'xReg': 0.1\n",
    "}\n",
    "\n",
    "# w_run_bad = {\n",
    "#     'xReg': 0.01,\n",
    "#     'uReg': 0.0,\n",
    "#     'translation': .0\n",
    "# }\n",
    "\n",
    "# w_term_bad = {\n",
    "#     'xReg': 0.0,\n",
    "#     'translation': .0    \n",
    "# }\n",
    "\n",
    "c=0\n",
    "for _ in range(obs_set.obs_num): # Adding Obstacle weights\n",
    "    w_run['collision'+str(c)] = 1000\n",
    "    w_term['collision'+str(c)] = 1000\n",
    "    w_run_bad['collision'+str(c)] = 0\n",
    "    w_term_bad['collision'+str(c)] = 0\n",
    "    c+=1\n",
    "\n",
    "w_run = dict(sorted(w_run.items()))\n",
    "w_term = dict(sorted(w_term.items()))\n",
    "w_run_bad = dict(sorted(w_run_bad.items()))\n",
    "w_term_bad = dict(sorted(w_term_bad.items()))\n",
    "\n",
    "w_run, w_term = normalize_w(w_run, w_term)\n",
    "w_run_bad, w_term_bad = normalize_w(w_run_bad, w_term_bad)"
   ]
  },
  {
   "cell_type": "code",
   "execution_count": 6,
   "id": "abe315a3-ec07-44d0-9ac2-776d5d68a918",
   "metadata": {},
   "outputs": [
    {
     "name": "stderr",
     "output_type": "stream",
     "text": [
      "/home/sarmad/machines-in-motion/my_git/IRL_Kuka/Kuka_utils.py:29: UserWarning: Deprecated member. Use Frame.parentJoint instead.\n",
      "  m.frames[pin_model.getFrameId(\"universe\")].parent,\n",
      "/home/sarmad/machines-in-motion/my_git/IRL_Kuka/Kuka_utils.py:27: UserWarning: This function has been marked as deprecated and will be removed in a future release.\n",
      "  obsObj = pin.GeometryObject(\"obstacle\"+str(num_obs),\n"
     ]
    }
   ],
   "source": [
    "dt = 1e-2\n",
    "T = 150\n",
    "\n",
    "solver, runningDatas, terminalData = init_robot(robot_simulator, q0, v0, obs_set, endeff_translation, w_run, w_term, dt, T)\n",
    "\n",
    "Keys_run = solver.problem.runningDatas[0].differential.costs.costs.todict().keys()\n",
    "Keys_term = solver.problem.terminalData.differential.costs.costs.todict().keys()\n",
    "nr_run = len(Keys_run); nr_term = len(Keys_term); nr = nr_run + nr_term\n",
    "\n",
    "xs_init = [x0 for i in range(T+1)]\n",
    "us_init = solver.problem.quasiStatic(xs_init[:-1])"
   ]
  },
  {
   "cell_type": "code",
   "execution_count": 7,
   "id": "fa64c54a-6a26-4751-bb74-a2f9d64c41ae",
   "metadata": {},
   "outputs": [],
   "source": [
    "# Solve \n",
    "update_solver_weights(solver, T, w_run, w_term)\n",
    "solver.termination_tolerance = 1e-4\n",
    "solver.with_callbacks = False\n",
    "solver.solve(xs_init, us_init, 500)\n",
    "xs_opt = solver.xs.copy()\n",
    "us_opt = solver.us.copy()"
   ]
  },
  {
   "cell_type": "code",
   "execution_count": 8,
   "id": "0d682378-15b9-4f8b-8ffb-ecdbd8eda75a",
   "metadata": {},
   "outputs": [],
   "source": [
    "update_solver_weights(solver, T, w_run_bad, w_term_bad)\n",
    "solver.termination_tolerance = 1e-4\n",
    "solver.with_callbacks = False\n",
    "solver.solve(xs_init, us_init, 500)\n",
    "xs_nopt = solver.xs.copy()\n",
    "us_nopt = solver.us.copy()"
   ]
  },
  {
   "cell_type": "code",
   "execution_count": 9,
   "id": "a461df6f-14a8-48b8-9c18-181fe58886a3",
   "metadata": {},
   "outputs": [],
   "source": [
    "## IRL Args\n",
    "irl_args = {\n",
    "    'solver': solver,\n",
    "    'w_run': w_run_bad,\n",
    "    'w_term': w_term_bad,\n",
    "    'type': 'autoreg', 'irl_iter': 1, 'sqp_iter': 1, 'next_traj': 'optimal', 'lr': 1.0,\n",
    "    'dt': dt,\n",
    "    'line_search_steps': 10, 'line_search_base': 'both',\n",
    "    'use_bad': True, 'xs_nopt': xs_nopt, 'us_nopt': us_nopt,\n",
    "    'normalize': False,\n",
    "    'K_set': 3,\n",
    "    'N_samples': T,\n",
    "    'use_best': False,\n",
    "    'Lambda': 0.0,\n",
    "    'KL_tol': -10.0,\n",
    "    'max_iter': 300, 'min_iter': 15,\n",
    "    'compare_desired': True, 'des_run': w_run, 'des_term': w_term,\n",
    "    'verbose': True\n",
    "}"
   ]
  },
  {
   "cell_type": "code",
   "execution_count": 10,
   "id": "7a88af94-1d1a-4f93-9cf3-7f1291210656",
   "metadata": {},
   "outputs": [
    {
     "name": "stdout",
     "output_type": "stream",
     "text": [
      "IRL Parameters:\n",
      "Initial Running Weight:  {'collision0': 0.0, 'collision1': 0.0, 'collision2': 0.0, 'translation': 0.0, 'uReg': 0.001, 'xReg': 1.0}\n",
      "Initial Terminal Weight:  {'collision0': 0.0, 'collision1': 0.0, 'collision2': 0.0, 'translation': 1.0, 'xReg': 1.0}\n",
      "Type:  autoreg\n",
      "Set Size:  3\n",
      "Sample Size:  150\n",
      "Lambda:  0.0\n",
      "SQP Iterations:  1\n",
      "IRL Max Iteration:  300\n",
      "Sample Time:  0.01\n"
     ]
    }
   ],
   "source": [
    "if 'IRL' in globals():\n",
    "    del(IRL)\n",
    "IRL = IRL_Crocoddyl(xs_opt, us_opt, irl_args)\n",
    "IRL.print_info()"
   ]
  },
  {
   "cell_type": "code",
   "execution_count": 11,
   "id": "a5d0e71a-4c23-4a5b-a136-f672b9a7c5ce",
   "metadata": {},
   "outputs": [
    {
     "name": "stdout",
     "output_type": "stream",
     "text": [
      "-- iter -- KL_div ---- KL_des ---- Opt Div --- Cost Diff --- Fcn Val ---- Step ---\n",
      "1.0288828153988316 16154.74322346056\n",
      "1.002206309116976 31575.220392070863\n",
      "0.9993712197801903 31923.930396723696\n",
      "||   0  || 0.000004 || 2.423204 || 0.999371 || 23618.817379 || 16778.203275 || 0.062\n",
      "1.029066067941752 16112.612665538325\n",
      "1.0028517865906055 31489.34703579655\n",
      "1.0001324310075406 31834.502572995647\n",
      "0.9995557074331771 31902.519007901315\n",
      "0.9994169915528909 31918.633540946605\n",
      "0.9993826410399568 31922.609636388373\n",
      "0.9993740737430209 31923.60042178378\n",
      "0.9993719331864391 31923.847916424136\n",
      "0.9993713981264746 31923.90977748835\n",
      "0.9993712643664315 31923.925241967314\n",
      "||   1  || 2.584068 || 1.172097 || 1.029066 || 42.623074 || 8.632695 || 1.000\n",
      "||   2  || 0.440255 || 0.000008 || 0.008788 || 0.000000 || 199.739453 || 1.000\n",
      "||   3  || 0.000000 || 0.000008 || 0.008761 || 0.000000 || 201.766323 || 0.000\n",
      "||   4  || 0.000000 || 0.000000 || 0.008787 || 0.000000 || 203.798778 || 1.000\n",
      "||   5  || 0.000000 || 0.000000 || 0.007043 || 0.000000 || 207.922152 || 0.000\n",
      "Hard termination criteria met.\n",
      "Duration:  4.337817430496216\n"
     ]
    }
   ],
   "source": [
    "begin_time = time.time()\n",
    "IRL.solve_irl()\n",
    "end_time = time.time()\n",
    "last_x = IRL.last_traj[0]; last_u = IRL.last_traj[1]\n",
    "best_x = IRL.best_traj[0]; best_u = IRL.best_traj[1]\n",
    "print('Duration: ', end_time - begin_time)"
   ]
  },
  {
   "cell_type": "code",
   "execution_count": 12,
   "id": "975fe05a-9606-4f15-ba89-3cefa801a798",
   "metadata": {},
   "outputs": [
    {
     "data": {
      "text/plain": [
       "[1.0,\n",
       " 0.9993712197801903,\n",
       " 1.029066067941752,\n",
       " 0.008787780769866827,\n",
       " 0.008761099253444732,\n",
       " 0.008786904258798732,\n",
       " 0.007043063263538317,\n",
       " 0.006922490805916294]"
      ]
     },
     "execution_count": 12,
     "metadata": {},
     "output_type": "execute_result"
    }
   ],
   "source": [
    "IRL.opt_div"
   ]
  },
  {
   "cell_type": "code",
   "execution_count": 13,
   "id": "e2b0ba7d-f05c-4fe2-af9c-855cee28b6e7",
   "metadata": {},
   "outputs": [],
   "source": [
    "# w_irl_run, w_irl_term = IRL.vector_to_dict(IRL.last_w[0], IRL.last_w[1])\n",
    "# print('Last Cost: ', IRL.get_traj_costs(IRL.phis_set[-1], IRL.last_w[0], IRL.last_w[1])[0])\n",
    "# print('Best Cost: ', IRL.get_traj_costs(IRL.phis_set[IRL.best_ind], IRL.best_w[0], IRL.best_w[1])[0])"
   ]
  },
  {
   "cell_type": "code",
   "execution_count": 14,
   "id": "b6ee832d-7888-4928-9ad2-1e3b7de9ee02",
   "metadata": {},
   "outputs": [
    {
     "name": "stdout",
     "output_type": "stream",
     "text": [
      "iteration:  6\n"
     ]
    },
    {
     "data": {
      "text/plain": [
       "9.382102408554117e-08"
      ]
     },
     "execution_count": 14,
     "metadata": {},
     "output_type": "execute_result"
    }
   ],
   "source": [
    "cost_set = []\n",
    "for i in range(len(IRL.Xs)-1):\n",
    "    dc = IRL.get_traj_costs(IRL.phis_set[i], IRL.ws[i][0], IRL.ws[i][1])[0] - IRL.get_traj_costs(IRL.phis_opt, IRL.ws[i][0], IRL.ws[i][1])[0]\n",
    "    # print('Cost Diff: ', dc)\n",
    "    cost_set.append(dc**2)\n",
    "# plt.semilogy(cost_set)\n",
    "addr = np.argmin(np.array(cost_set[1:]))\n",
    "print('iteration: ', addr)\n",
    "cost_set[addr]"
   ]
  },
  {
   "cell_type": "code",
   "execution_count": 15,
   "id": "1ec910e6-8bf4-4559-8b4b-c4bd45b14575",
   "metadata": {},
   "outputs": [],
   "source": [
    "addr = -1"
   ]
  },
  {
   "cell_type": "code",
   "execution_count": 16,
   "id": "47b7a162-5229-44dd-8bdb-de15d8baca06",
   "metadata": {},
   "outputs": [
    {
     "name": "stdout",
     "output_type": "stream",
     "text": [
      "Running\n",
      "collision0 :\n",
      "Desired: 1.00000 || Initial: 0.00000 || Chosen: 0.09894\n",
      "collision1 :\n",
      "Desired: 1.00000 || Initial: 0.00000 || Chosen: 1.00000\n",
      "collision2 :\n",
      "Desired: 1.00000 || Initial: 0.00000 || Chosen: 0.13278\n",
      "translation :\n",
      "Desired: 0.00010 || Initial: 0.00000 || Chosen: 0.00000\n",
      "uReg :\n",
      "Desired: 0.00000 || Initial: 0.00100 || Chosen: 0.00000\n",
      "xReg :\n",
      "Desired: 0.00010 || Initial: 1.00000 || Chosen: 0.00002\n",
      "\n",
      "Terminal\n",
      "collision0 :\n",
      "Desired: 1.00000 || Initial: 0.00000 || Chosen: 0.00009\n",
      "collision1 :\n",
      "Desired: 1.00000 || Initial: 0.00000 || Chosen: 0.00760\n",
      "collision2 :\n",
      "Desired: 1.00000 || Initial: 0.00000 || Chosen: 0.00404\n",
      "translation :\n",
      "Desired: 0.01000 || Initial: 1.00000 || Chosen: 0.16724\n",
      "xReg :\n",
      "Desired: 0.00010 || Initial: 1.00000 || Chosen: 0.00000\n"
     ]
    }
   ],
   "source": [
    "w_chosen_run = IRL.ws[addr][0]; w_chosen_term = IRL.ws[addr][1]\n",
    "print('Running')\n",
    "for i, key in enumerate(IRL.keys_run):\n",
    "    print(key, ':')\n",
    "    print('Desired: {:.5f} || Initial: {:.5f} || Chosen: {:.5f}'.format(list(w_run.values())[i],\n",
    "                                                                        list(w_run_bad.values())[i],\n",
    "                                                                  w_chosen_run[i]))\n",
    "    # print('Desired: {:.4f} || Best: {:.4f}'.format(list(w_run.values())[i],IRL.best_w[0][i]))\n",
    "print()\n",
    "print('Terminal')\n",
    "for i, key in enumerate(IRL.keys_term):\n",
    "    print(key, ':')\n",
    "    print('Desired: {:.5f} || Initial: {:.5f} || Chosen: {:.5f}'.format(list(w_term.values())[i], \n",
    "                                                                        list(w_term_bad.values())[i], \n",
    "                                                                  w_chosen_term[i]))\n",
    "    # print('Desired: {:.4f} || Best: {:.4f}'.format(list(w_term.values())[i], IRL.best_w[1][i]))\n"
   ]
  },
  {
   "cell_type": "code",
   "execution_count": 17,
   "id": "fc941513-9c05-4962-9df4-8166bab68ea5",
   "metadata": {},
   "outputs": [],
   "source": [
    "n = addr\n",
    "# n = -1\n",
    "xs = IRL.Xs[n]\n",
    "us = IRL.Us[n]\n",
    "viewer = init_mujoco(mj_model, mj_data, q0, np.zeros(nq), obs_set, endeff_translation)\n",
    "time.sleep(4)\n",
    "# for i in range(IRL.max_iter):\n",
    "#     run_traj(viewer, mj_model, mj_data, pin_model, pin_data, IRL.Xs[i], IRL.Us[i], dt)\n",
    "run_traj(viewer, mj_model, mj_data, pin_model, pin_data, xs, us, dt)\n",
    "# run_traj(viewer, mj_model, mj_data, pin_model, pin_data, xs_opt, us_opt, dt)\n",
    "# run_traj(viewer, mj_model, mj_data, pin_model, pin_data, best_x, best_u, dt)\n",
    "# run_traj(viewer, mj_model, mj_data, pin_model, pin_data, last_x, last_u, dt)"
   ]
  },
  {
   "cell_type": "code",
   "execution_count": 18,
   "id": "99cd11f7-e53b-4bbb-a664-e255e33c4b42",
   "metadata": {},
   "outputs": [],
   "source": [
    "W = np.stack([IRL.ws[i][-1] for i in range(len(IRL.ws))])"
   ]
  },
  {
   "cell_type": "code",
   "execution_count": 19,
   "id": "4f93b66a-c4a2-494d-bafc-76a636eba9a8",
   "metadata": {},
   "outputs": [
    {
     "name": "stdout",
     "output_type": "stream",
     "text": [
      "196.7480663089721\n",
      "28421.57134261872\n",
      "0.006922490805916294\n"
     ]
    },
    {
     "data": {
      "image/png": "[encoded data removed]",
      "text/plain": [
       "<Figure size 640x480 with 1 Axes>"
      ]
     },
     "metadata": {},
     "output_type": "display_data"
    }
   ],
   "source": [
    "phi_opt, phis_opt = IRL.get_traj_features(xs_opt, us_opt)\n",
    "phi_nopt, phis_nopt = IRL.get_traj_features(xs_nopt, us_nopt)\n",
    "\n",
    "for i in range(len(IRL.Xs)):\n",
    "    xs = IRL.Xs[i]\n",
    "    us = IRL.Us[i]\n",
    "    phi, phis = IRL.get_traj_features(xs, us)\n",
    "    p = []\n",
    "    o = []\n",
    "    no = []\n",
    "    for p_, o_, no_ in zip(phis, phis_opt, phis_nopt):\n",
    "        p.append(np.linalg.norm(p_))\n",
    "        o.append(np.linalg.norm(o_))\n",
    "        no.append(np.linalg.norm(no_))\n",
    "\n",
    "    plt.plot(p, color='red')\n",
    "plt.plot(p, color='blue')\n",
    "plt.plot(o, color='green')\n",
    "# plt.plot(no)\n",
    "\n",
    "print(np.linalg.norm(phi - phi_opt))\n",
    "print(np.linalg.norm(phi_nopt - phi_opt))\n",
    "print(np.linalg.norm(phi - phi_opt)/np.linalg.norm(phi_nopt - phi_opt))"
   ]
  },
  {
   "cell_type": "code",
   "execution_count": 20,
   "id": "c3e362ad-7a42-401c-916e-de4283f16b07",
   "metadata": {},
   "outputs": [
    {
     "name": "stdout",
     "output_type": "stream",
     "text": [
      "0.0 0.0\n",
      "1.0 1.0\n",
      "0.9826078116226836 0.9826078116226836\n",
      "0.6250791750808268 0.6250791750808268\n",
      "0.008092643617975036 0.008092643617975036\n",
      "0.008067861566057887 0.008067861566057887\n",
      "0.00809163636517357 0.00809163636517357\n",
      "0.007004875513817838 0.007004875513817838\n",
      "0.006922490805916294 0.006922490805916294\n"
     ]
    }
   ],
   "source": [
    "for i in range(len(IRL.Xs)):\n",
    "    xs = IRL.Xs[i]\n",
    "    us = IRL.Us[i]\n",
    "    phi_, phis_ = IRL.get_traj_features(xs, us)\n",
    "    print(np.linalg.norm(phis_[-1] - phis_opt[-1])/np.linalg.norm(phis_nopt[-1] - phis_opt[-1]),\n",
    "         np.linalg.norm(phi_ - phi_opt)/np.linalg.norm(phi_nopt - phi_opt))"
   ]
  },
  {
   "cell_type": "code",
   "execution_count": 24,
   "id": "5a87b6cc-7fdd-414a-aed6-f745dde58cd8",
   "metadata": {},
   "outputs": [
    {
     "data": {
      "text/plain": [
       "{'collision0': 0.0989381581683892,\n",
       " 'collision1': 1.0,\n",
       " 'collision2': 0.1327804870522322,\n",
       " 'translation': 1.2328999706620066e-08,\n",
       " 'uReg': 0.0,\n",
       " 'xReg': 1.5258767391002035e-05}"
      ]
     },
     "execution_count": 24,
     "metadata": {},
     "output_type": "execute_result"
    }
   ],
   "source": [
    "IRL.solver.cost\n",
    "IRL.w_run"
   ]
  },
  {
   "cell_type": "code",
   "execution_count": 37,
   "id": "f9b9465f-cd73-443b-863d-3815fb3ceb45",
   "metadata": {},
   "outputs": [
    {
     "data": {
      "text/plain": [
       "array([1.7875e-03, 0.0000e+00, 0.0000e+00, 1.0000e+00, 4.7059e-05, 4.7059e-02])"
      ]
     },
     "execution_count": 37,
     "metadata": {},
     "output_type": "execute_result"
    }
   ],
   "source": [
    "IRL.ws[2][0]"
   ]
  },
  {
   "cell_type": "code",
   "execution_count": 42,
   "id": "608a6d6a-aa6c-4c8b-b4ce-53117f486e98",
   "metadata": {},
   "outputs": [
    {
     "data": {
      "text/plain": [
       "{'collision0': 0.0,\n",
       " 'collision1': 0.0,\n",
       " 'collision2': 0.0,\n",
       " 'translation': 1.0,\n",
       " 'xReg': 1.0}"
      ]
     },
     "execution_count": 42,
     "metadata": {},
     "output_type": "execute_result"
    }
   ],
   "source": [
    "w_term_bad"
   ]
  },
  {
   "cell_type": "code",
   "execution_count": 28,
   "id": "040d0e82-eee3-4d53-b186-2ca015c9eac8",
   "metadata": {},
   "outputs": [
    {
     "name": "stdout",
     "output_type": "stream",
     "text": [
      "0.002277055705762289\n"
     ]
    },
    {
     "data": {
      "text/plain": [
       "151"
      ]
     },
     "execution_count": 28,
     "metadata": {},
     "output_type": "execute_result"
    }
   ],
   "source": [
    "# _, phis = IRL.get_traj_features(IRL.Xs[-1], IRL.Us[-1])\n",
    "_, phis = IRL.get_new_traj_features()\n",
    "# w_run_v, w_term_v, wv = IRL.dict_to_vector()\n",
    "cost, costs = IRL.get_traj_costs(phis, IRL.ws[-1][0], IRL.ws[-1][1])\n",
    "print(costs[-1])\n",
    "len(costs)"
   ]
  },
  {
   "cell_type": "code",
   "execution_count": 43,
   "id": "68c8c025-9be7-4c39-aa54-e30b9c85d0ae",
   "metadata": {},
   "outputs": [
    {
     "ename": "IndexError",
     "evalue": "only integers, slices (`:`), ellipsis (`...`), numpy.newaxis (`None`) and integer or boolean arrays are valid indices",
     "output_type": "error",
     "traceback": [
      "\u001b[0;31m---------------------------------------------------------------------------\u001b[0m",
      "\u001b[0;31mIndexError\u001b[0m                                Traceback (most recent call last)",
      "Cell \u001b[0;32mIn[43], line 2\u001b[0m\n\u001b[1;32m      1\u001b[0m n \u001b[38;5;241m=\u001b[39m \u001b[38;5;241m0\u001b[39m\n\u001b[0;32m----> 2\u001b[0m wr, wt, w \u001b[38;5;241m=\u001b[39m \u001b[43mIRL\u001b[49m\u001b[38;5;241;43m.\u001b[39;49m\u001b[43mdict_to_vector\u001b[49m\u001b[43m(\u001b[49m\u001b[43mIRL\u001b[49m\u001b[38;5;241;43m.\u001b[39;49m\u001b[43mws\u001b[49m\u001b[43m[\u001b[49m\u001b[43mn\u001b[49m\u001b[43m]\u001b[49m\u001b[43m[\u001b[49m\u001b[38;5;241;43m0\u001b[39;49m\u001b[43m]\u001b[49m\u001b[43m,\u001b[49m\u001b[43m \u001b[49m\u001b[43mIRL\u001b[49m\u001b[38;5;241;43m.\u001b[39;49m\u001b[43mws\u001b[49m\u001b[43m[\u001b[49m\u001b[43mn\u001b[49m\u001b[43m]\u001b[49m\u001b[43m[\u001b[49m\u001b[38;5;241;43m1\u001b[39;49m\u001b[43m]\u001b[49m\u001b[43m)\u001b[49m\n",
      "File \u001b[0;32m~/machines-in-motion/my_git/IRL_Kuka/IRL_solver.py:561\u001b[0m, in \u001b[0;36mIRL_Crocoddyl.dict_to_vector\u001b[0;34m(self, w_run, w_term)\u001b[0m\n\u001b[1;32m    559\u001b[0m wv \u001b[38;5;241m=\u001b[39m np\u001b[38;5;241m.\u001b[39mzeros(\u001b[38;5;28mlen\u001b[39m(w_run)\u001b[38;5;241m+\u001b[39m\u001b[38;5;28mlen\u001b[39m(w_term))\n\u001b[1;32m    560\u001b[0m \u001b[38;5;28;01mfor\u001b[39;00m i, k \u001b[38;5;129;01min\u001b[39;00m \u001b[38;5;28menumerate\u001b[39m(\u001b[38;5;28mself\u001b[39m\u001b[38;5;241m.\u001b[39mkeys_run):\n\u001b[0;32m--> 561\u001b[0m     wv[i] \u001b[38;5;241m=\u001b[39m \u001b[43mw_run\u001b[49m\u001b[43m[\u001b[49m\u001b[43mk\u001b[49m\u001b[43m]\u001b[49m\n\u001b[1;32m    562\u001b[0m     wv_run[i] \u001b[38;5;241m=\u001b[39m w_run[k]\n\u001b[1;32m    563\u001b[0m \u001b[38;5;28;01mfor\u001b[39;00m i, k \u001b[38;5;129;01min\u001b[39;00m \u001b[38;5;28menumerate\u001b[39m(\u001b[38;5;28mself\u001b[39m\u001b[38;5;241m.\u001b[39mkeys_term):\n",
      "\u001b[0;31mIndexError\u001b[0m: only integers, slices (`:`), ellipsis (`...`), numpy.newaxis (`None`) and integer or boolean arrays are valid indices"
     ]
    }
   ],
   "source": [
    "n = 0\n",
    "wr, wt, w = IRL.dict_to_vector()"
   ]
  },
  {
   "cell_type": "code",
   "execution_count": 54,
   "id": "a3cce485-b2e3-43ee-9ce3-8eb95b43efeb",
   "metadata": {},
   "outputs": [
    {
     "data": {
      "text/plain": [
       "({'collision0': 0.0989381581683892,\n",
       "  'collision1': 1.0,\n",
       "  'collision2': 0.1327804870522322,\n",
       "  'translation': 1.2328999706620066e-08,\n",
       "  'uReg': 0.0,\n",
       "  'xReg': 1.5258767391002035e-05},\n",
       " {'collision0': 9.208183905924935e-05,\n",
       "  'collision1': 0.0075951272492532085,\n",
       "  'collision2': 0.004040475184964824,\n",
       "  'translation': 0.16724141557712846,\n",
       "  'xReg': 3.856651815547267e-08})"
      ]
     },
     "execution_count": 54,
     "metadata": {},
     "output_type": "execute_result"
    }
   ],
   "source": [
    "n = 7\n",
    "IRL.vector_to_dict(IRL.ws[n][0], IRL.ws[n][1])"
   ]
  },
  {
   "cell_type": "code",
   "execution_count": null,
   "id": "5afb9e9b-d969-46bc-bd21-708c5c7f5968",
   "metadata": {},
   "outputs": [],
   "source": []
  }
 ],
 "metadata": {
  "kernelspec": {
   "display_name": "Python 3 (ipykernel)",
   "language": "python",
   "name": "python3"
  },
  "language_info": {
   "codemirror_mode": {
    "name": "ipython",
    "version": 3
   },
   "file_extension": ".py",
   "mimetype": "text/x-python",
   "name": "python",
   "nbconvert_exporter": "python",
   "pygments_lexer": "ipython3",
   "version": "3.10.12"
  }
 },
 "nbformat": 4,
 "nbformat_minor": 5
}
