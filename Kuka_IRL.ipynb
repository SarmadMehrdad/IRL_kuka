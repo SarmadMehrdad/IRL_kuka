{
 "cells": [
  {
   "cell_type": "code",
   "execution_count": 1,
   "id": "75364ffc-506f-445c-8e74-1568b3ff6388",
   "metadata": {},
   "outputs": [
    {
     "name": "stderr",
     "output_type": "stream",
     "text": [
      "pybullet build time: Nov 28 2023 23:45:17\n"
     ]
    }
   ],
   "source": [
    "import crocoddyl\n",
    "import mujoco\n",
    "import mujoco.viewer\n",
    "import mim_solvers\n",
    "import numpy as np\n",
    "import matplotlib.pyplot as plt\n",
    "import hppfcl\n",
    "import time\n",
    "from os.path import dirname, join, abspath\n",
    "np.set_printoptions(precision=4, linewidth=180)\n",
    "\n",
    "import pin_utils, mpc_utils\n",
    "from Kuka_utils import *\n",
    "from Kuka_model import *\n",
    "from Kuka_Mujoco_utils import *\n",
    "from IRL_solver import IRL_Crocoddyl\n",
    "import pinocchio as pin\n",
    "from pinocchio.visualize import MeshcatVisualizer\n",
    "\n",
    "from mim_robots.pybullet.env import BulletEnvWithGround\n",
    "from mim_robots.robot_loader import load_bullet_wrapper, load_mujoco_model, get_robot_list, load_pinocchio_wrapper\n",
    "from mim_robots.robot_list import MiM_Robots\n",
    "from numpy.linalg import norm, solve\n",
    "from scipy.spatial.transform import Rotation as R\n",
    "from scipy.optimize import minimize\n",
    "from scipy.optimize import Bounds\n"
   ]
  },
  {
   "cell_type": "code",
   "execution_count": 2,
   "id": "4ce5e076-8e53-4cfa-bde5-cd503558ee45",
   "metadata": {},
   "outputs": [],
   "source": [
    "%run -i 'init.py'"
   ]
  },
  {
   "cell_type": "code",
   "execution_count": 3,
   "id": "e613c132-b09d-4fdc-b5ea-25ba60ebbd65",
   "metadata": {},
   "outputs": [],
   "source": [
    "obs_set = obstacle_set()\n",
    "obs_set.add_obs(np.array([0.65, -0.05, 0.7]), l = 0.05, col_r = 0.15)\n",
    "obs_set.add_obs(np.array([0.65, -0.15, 0.35]), l = 0.1, col_r = 0.15)\n",
    "obs_set.add_obs(np.array([0.65, -0.25, 0.7]), l = 0.1, col_r = 0.15)\n",
    "obs_num = obs_set.obs_num"
   ]
  },
  {
   "cell_type": "code",
   "execution_count": 4,
   "id": "0ad45435-aa63-4a35-bc86-e97b08da5d0b",
   "metadata": {},
   "outputs": [],
   "source": [
    "# endeff frame translation goal\n",
    "endeff_frame_id = pin_model.getFrameId(\"contact\")\n",
    "endeff_joint_id = pin_model.getJointId(\"contact\")\n",
    "# endeff_translation = pin_data.oMf[endeff_frame_id].translation.copy()\n",
    "endeff_translation = np.array([0.4,  -0.5,  0.35])"
   ]
  },
  {
   "cell_type": "code",
   "execution_count": 5,
   "id": "d05aa449-341c-499d-8b38-02a8477d245a",
   "metadata": {},
   "outputs": [],
   "source": [
    "w_run = {\n",
    "    'translation': .1,\n",
    "    'xReg': 0.1,\n",
    "    'uReg': 0.0001\n",
    "}\n",
    "\n",
    "w_term = {\n",
    "    'translation': 10,\n",
    "    'xReg': 0.1\n",
    "}\n",
    "\n",
    "w_run_bad = {\n",
    "    'translation': 0.0,\n",
    "    'xReg': 0.1,\n",
    "    'uReg': 0.0001\n",
    "}\n",
    "\n",
    "w_term_bad = {\n",
    "    'translation': 0,\n",
    "    'xReg': 0.1\n",
    "}\n",
    "\n",
    "# w_run_bad = {\n",
    "#     'xReg': 0.01,\n",
    "#     'uReg': 0.0,\n",
    "#     'translation': .0\n",
    "# }\n",
    "\n",
    "# w_term_bad = {\n",
    "#     'xReg': 0.0,\n",
    "#     'translation': .0    \n",
    "# }\n",
    "\n",
    "c=0\n",
    "for _ in range(obs_set.obs_num): # Adding Obstacle weights\n",
    "    w_run['collision'+str(c)] = 1000\n",
    "    w_term['collision'+str(c)] = 1000\n",
    "    w_run_bad['collision'+str(c)] = 0\n",
    "    w_term_bad['collision'+str(c)] = 0\n",
    "    c+=1\n",
    "\n",
    "w_run = dict(sorted(w_run.items()))\n",
    "w_term = dict(sorted(w_term.items()))\n",
    "w_run_bad = dict(sorted(w_run_bad.items()))\n",
    "w_term_bad = dict(sorted(w_term_bad.items()))\n",
    "\n",
    "w_run, w_term = normalize_w(w_run, w_term)\n",
    "w_run_bad, w_term_bad = normalize_w(w_run_bad, w_term_bad)"
   ]
  },
  {
   "cell_type": "code",
   "execution_count": 6,
   "id": "abe315a3-ec07-44d0-9ac2-776d5d68a918",
   "metadata": {},
   "outputs": [
    {
     "name": "stderr",
     "output_type": "stream",
     "text": [
      "/home/sarmad/machines-in-motion/my_git/IRL_Kuka/Kuka_utils.py:29: UserWarning: Deprecated member. Use Frame.parentJoint instead.\n",
      "  m.frames[pin_model.getFrameId(\"universe\")].parent,\n",
      "/home/sarmad/machines-in-motion/my_git/IRL_Kuka/Kuka_utils.py:27: UserWarning: This function has been marked as deprecated and will be removed in a future release.\n",
      "  obsObj = pin.GeometryObject(\"obstacle\"+str(num_obs),\n"
     ]
    }
   ],
   "source": [
    "dt = 1e-2\n",
    "T = 200\n",
    "\n",
    "solver = init_robot(robot_simulator, q0, v0, obs_set, endeff_translation, w_run, w_term, dt, T)\n",
    "\n",
    "Keys_run = solver.problem.runningDatas[0].differential.costs.costs.todict().keys()\n",
    "Keys_term = solver.problem.terminalData.differential.costs.costs.todict().keys()\n",
    "nr_run = len(Keys_run); nr_term = len(Keys_term); nr = nr_run + nr_term\n",
    "\n",
    "xs_init = [x0 for i in range(T+1)]\n",
    "us_init = solver.problem.quasiStatic(xs_init[:-1])"
   ]
  },
  {
   "cell_type": "code",
   "execution_count": 7,
   "id": "fa64c54a-6a26-4751-bb74-a2f9d64c41ae",
   "metadata": {},
   "outputs": [],
   "source": [
    "# Solve \n",
    "update_solver_weights(solver, T, w_run, w_term)\n",
    "solver.termination_tolerance = 1e-4\n",
    "solver.with_callbacks = False\n",
    "solver.solve(xs_init, us_init, 500)\n",
    "xs_opt = solver.xs.copy()\n",
    "us_opt = solver.us.copy()"
   ]
  },
  {
   "cell_type": "code",
   "execution_count": 8,
   "id": "0d682378-15b9-4f8b-8ffb-ecdbd8eda75a",
   "metadata": {},
   "outputs": [],
   "source": [
    "update_solver_weights(solver, T, w_run_bad, w_term_bad)\n",
    "solver.termination_tolerance = 1e-4\n",
    "solver.with_callbacks = False\n",
    "solver.solve(xs_init, us_init, 500)\n",
    "xs_nopt = solver.xs.copy()\n",
    "us_nopt = solver.us.copy()"
   ]
  },
  {
   "cell_type": "code",
   "execution_count": 9,
   "id": "a461df6f-14a8-48b8-9c18-181fe58886a3",
   "metadata": {},
   "outputs": [],
   "source": [
    "## IRL Args\n",
    "irl_args = {\n",
    "    'solver': solver,\n",
    "    'w_run': w_run_bad,\n",
    "    'w_term': w_term_bad,\n",
    "    'type': 'autoreg', 'irl_iter': 1, 'sqp_iter': 1, 'next_traj': 'optimal', 'lr': 1.0,\n",
    "    # 'type': 'autoreg', 'irl_iter': 1, 'sqp_iter': 1, 'next_traj': 'last', 'lr': 1.0,\n",
    "    'dt': dt,\n",
    "    'line_search_steps': 15, 'line_search_base': 'cost',\n",
    "    'use_bad': True, 'xs_nopt': xs_nopt, 'us_nopt': us_nopt,\n",
    "    'normalize': False,\n",
    "    'K_set': 1,\n",
    "    'N_samples': T,\n",
    "    'use_best': False,\n",
    "    'Lambda': 0.0,\n",
    "    'KL_tol': 1e-10,\n",
    "    'max_iter': 300, 'min_iter': 1,\n",
    "    'compare_desired': True, 'des_run': w_run, 'des_term': w_term,\n",
    "    'verbose': True\n",
    "}"
   ]
  },
  {
   "cell_type": "code",
   "execution_count": 10,
   "id": "7a88af94-1d1a-4f93-9cf3-7f1291210656",
   "metadata": {},
   "outputs": [
    {
     "name": "stdout",
     "output_type": "stream",
     "text": [
      "IRL Parameters:\n",
      "Initial Running Weight:  {'collision0': 0.0, 'collision1': 0.0, 'collision2': 0.0, 'translation': 0.0, 'uReg': 0.001, 'xReg': 1.0}\n",
      "Initial Terminal Weight:  {'collision0': 0.0, 'collision1': 0.0, 'collision2': 0.0, 'translation': 0.0, 'xReg': 1.0}\n",
      "Type:  autoreg\n",
      "Set Size:  1\n",
      "Sample Size:  200\n",
      "Lambda:  0.0\n",
      "SQP Iterations:  1\n",
      "IRL Max Iteration:  300\n",
      "Sample Time:  0.01\n"
     ]
    }
   ],
   "source": [
    "if 'IRL' in globals():\n",
    "    del(IRL)\n",
    "IRL = IRL_Crocoddyl(xs_opt, us_opt, irl_args)\n",
    "IRL.print_info()"
   ]
  },
  {
   "cell_type": "code",
   "execution_count": 11,
   "id": "a5d0e71a-4c23-4a5b-a136-f672b9a7c5ce",
   "metadata": {},
   "outputs": [
    {
     "name": "stdout",
     "output_type": "stream",
     "text": [
      "-- iter -- KL_div ---- KL_des ---- Opt Div --- Cost Diff --- Fcn Val ---- Step ---\n",
      "||   1  || 0.038826 || 1.128116 || 0.571584 || 240.146299 || 62718.105439 || 0 || cost\n",
      "||   2  || 0.026821 || 0.534488 || 7.091581 || 53.452858 || 145624.599263 || 0 || cost\n",
      "||   3  || 0.001789 || 0.186940 || 0.027253 || 37.955014 || 273853.959609 || 5 || cost\n",
      "||   4  || 0.040812 || 0.000000 || 0.557661 || 0.000055 || 325037.087453 || 0 || cost\n",
      "||   5  || 0.000000 || 0.000001 || 0.523539 || 0.000025 || 430967.670264 || 6 || cost\n",
      "||   6  || 0.000000 || 0.000002 || 0.485328 || 0.000007 || 420653.058623 || 3 || cost\n",
      "||   7  || 0.000000 || 0.000000 || 0.056567 || 0.000000 || 339528.074692 || 0 || cost\n",
      "KL divergence and minimum iteration termination criteria met.\n",
      "Duration:  2.857189416885376\n"
     ]
    }
   ],
   "source": [
    "begin_time = time.time()\n",
    "IRL.solve_irl()\n",
    "end_time = time.time()\n",
    "last_x = IRL.last_traj[0]; last_u = IRL.last_traj[1]\n",
    "best_x = IRL.best_traj[0]; best_u = IRL.best_traj[1]\n",
    "print('Duration: ', end_time - begin_time)"
   ]
  },
  {
   "cell_type": "code",
   "execution_count": 12,
   "id": "47b7a162-5229-44dd-8bdb-de15d8baca06",
   "metadata": {},
   "outputs": [
    {
     "name": "stdout",
     "output_type": "stream",
     "text": [
      "Running\n",
      "collision0 :\n",
      "Desired: 1.00000 || Initial: 0.00000 || Chosen: 0.32723\n",
      "collision1 :\n",
      "Desired: 1.00000 || Initial: 0.00000 || Chosen: 0.14003\n",
      "collision2 :\n",
      "Desired: 1.00000 || Initial: 0.00000 || Chosen: 0.31291\n",
      "translation :\n",
      "Desired: 0.00010 || Initial: 0.00000 || Chosen: 0.00001\n",
      "uReg :\n",
      "Desired: 0.00000 || Initial: 0.00100 || Chosen: 0.00000\n",
      "xReg :\n",
      "Desired: 0.00010 || Initial: 1.00000 || Chosen: 0.00000\n",
      "\n",
      "Terminal\n",
      "collision0 :\n",
      "Desired: 1.00000 || Initial: 0.00000 || Chosen: 0.00000\n",
      "collision1 :\n",
      "Desired: 1.00000 || Initial: 0.00000 || Chosen: 0.00000\n",
      "collision2 :\n",
      "Desired: 1.00000 || Initial: 0.00000 || Chosen: 0.00756\n",
      "translation :\n",
      "Desired: 0.01000 || Initial: 0.00000 || Chosen: 1.00000\n",
      "xReg :\n",
      "Desired: 0.00010 || Initial: 1.00000 || Chosen: 0.00003\n"
     ]
    }
   ],
   "source": [
    "addr = -1\n",
    "w_chosen_run = IRL.ws[addr][0]; w_chosen_term = IRL.ws[addr][1]\n",
    "print('Running')\n",
    "for i, key in enumerate(IRL.keys_run):\n",
    "    print(key, ':')\n",
    "    print('Desired: {:.5f} || Initial: {:.5f} || Chosen: {:.5f}'.format(list(w_run.values())[i],\n",
    "                                                                        list(w_run_bad.values())[i],\n",
    "                                                                  w_chosen_run[i]))\n",
    "    # print('Desired: {:.4f} || Best: {:.4f}'.format(list(w_run.values())[i],IRL.best_w[0][i]))\n",
    "print()\n",
    "print('Terminal')\n",
    "for i, key in enumerate(IRL.keys_term):\n",
    "    print(key, ':')\n",
    "    print('Desired: {:.5f} || Initial: {:.5f} || Chosen: {:.5f}'.format(list(w_term.values())[i], \n",
    "                                                                        list(w_term_bad.values())[i], \n",
    "                                                                  w_chosen_term[i]))\n",
    "    # print('Desired: {:.4f} || Best: {:.4f}'.format(list(w_term.values())[i], IRL.best_w[1][i]))\n"
   ]
  },
  {
   "cell_type": "code",
   "execution_count": 21,
   "id": "fc941513-9c05-4962-9df4-8166bab68ea5",
   "metadata": {},
   "outputs": [],
   "source": [
    "# # n = addr\n",
    "# n = -1\n",
    "# xs = IRL.Xs[n]\n",
    "# us = IRL.Us[n]\n",
    "# viewer = init_mujoco(mj_model, mj_data, q0, np.zeros(nq), obs_set, endeff_translation)\n",
    "# time.sleep(15)\n",
    "\n",
    "# # run_traj(viewer, mj_model, mj_data, pin_model, pin_data, xs, us, dt)\n",
    "# run_traj(viewer, mj_model, mj_data, pin_model, pin_data, xs_opt, us_opt, dt)\n",
    "# # run_traj(viewer, mj_model, mj_data, pin_model, pin_data, best_x, best_u, dt)\n",
    "# # run_traj(viewer, mj_model, mj_data, pin_model, pin_data, last_x, last_u, dt)"
   ]
  },
  {
   "cell_type": "code",
   "execution_count": 14,
   "id": "0b1935b3-1cfe-4aa5-b982-43c5f5afb1c3",
   "metadata": {},
   "outputs": [],
   "source": [
    "w_run_irl, w_term_irl = IRL.vector_to_dict(IRL.ws[-1][0], IRL.ws[-1][1])"
   ]
  },
  {
   "cell_type": "code",
   "execution_count": 15,
   "id": "7e7e13ee-803d-422d-aba8-7272869459a9",
   "metadata": {},
   "outputs": [
    {
     "data": {
      "text/plain": [
       "{'collision0': 0.3272336123571861,\n",
       " 'collision1': 0.14003065181737595,\n",
       " 'collision2': 0.3129052055953757,\n",
       " 'translation': 5.292915423553424e-06,\n",
       " 'uReg': 9.067941465645963e-09,\n",
       " 'xReg': 6.493265436816628e-07}"
      ]
     },
     "execution_count": 15,
     "metadata": {},
     "output_type": "execute_result"
    }
   ],
   "source": [
    "w_run_irl"
   ]
  },
  {
   "cell_type": "code",
   "execution_count": 16,
   "id": "7709e44c-2e7c-40bd-91af-79c929da9cd6",
   "metadata": {},
   "outputs": [
    {
     "data": {
      "text/plain": [
       "{'collision0': 1.5895436421887124e-09,\n",
       " 'collision1': 6.170939294446003e-09,\n",
       " 'collision2': 0.0075595620802728965,\n",
       " 'translation': 1.0,\n",
       " 'xReg': 3.084648035946601e-05}"
      ]
     },
     "execution_count": 16,
     "metadata": {},
     "output_type": "execute_result"
    }
   ],
   "source": [
    "w_term_irl"
   ]
  },
  {
   "cell_type": "markdown",
   "id": "fdcaa7cc-e88f-439f-96c0-86a5a8c1f677",
   "metadata": {},
   "source": [
    "## Randomization Task ..."
   ]
  },
  {
   "cell_type": "code",
   "execution_count": 23,
   "id": "7f6e6941-5589-4a21-9ae4-e5148a862e31",
   "metadata": {},
   "outputs": [],
   "source": [
    "## Randomizing\n",
    "obs_set_new = obstacle_set()\n",
    "obs_set_new.add_obs(np.array([0.55, -0.05, 0.7]), l = 0.05, col_r = 0.15)\n",
    "obs_set_new.add_obs(np.array([0.55, -0.15, 0.45]), l = 0.1, col_r = 0.15)\n",
    "obs_set_new.add_obs(np.array([0.55, -0.25, 0.7]), l = 0.1, col_r = 0.15)\n",
    "obs_num = obs_set_new.obs_num\n",
    "# endeff frame translation goal\n",
    "endeff_frame_id_new = pin_model.getFrameId(\"contact\")\n",
    "endeff_joint_id_new = pin_model.getJointId(\"contact\")\n",
    "# endeff_translation = pin_data.oMf[endeff_frame_id].translation.copy()\n",
    "endeff_translation_new = np.array([0.5,  -0.4,  0.75])\n",
    "solver_new = init_robot(robot_simulator, q0, v0, obs_set_new, endeff_translation_new, w_run_irl, w_term_irl, dt, T)\n",
    "\n",
    "# Initial Stationary start\n",
    "xs_init = [x0 for i in range(T+1)]\n",
    "us_init = solver.problem.quasiStatic(xs_init[:-1])\n",
    "\n",
    "# # Latest IRL generation start\n",
    "# xs_init = [IRL.Xs[-1][i] for i in range(T+1)]\n",
    "# us_init = [IRL.Us[-1][i] for i in range(T)]\n",
    "\n",
    "# # Optimal start\n",
    "# xs_init = [xs_opt[i] for i in range(T+1)]\n",
    "# us_init = [us_opt[i] for i in range(T)]\n",
    "\n",
    "solver_new.termination_tolerance = 1e-4\n",
    "solver_new.with_callbacks = False\n",
    "solver_new.solve(xs_init, us_init, 500)\n",
    "xs_irl = solver_new.xs.copy()\n",
    "us_irl = solver_new.us.copy()\n",
    "viewer = init_mujoco(mj_model, mj_data, q0, np.zeros(nq), obs_set_new, endeff_translation_new)\n",
    "time.sleep(10)\n",
    "run_traj(viewer, mj_model, mj_data, pin_model, pin_data, xs_irl, us_irl, dt)"
   ]
  },
  {
   "cell_type": "code",
   "execution_count": 18,
   "id": "4f93b66a-c4a2-494d-bafc-76a636eba9a8",
   "metadata": {},
   "outputs": [
    {
     "name": "stdout",
     "output_type": "stream",
     "text": [
      "0.02094327805977698\n"
     ]
    },
    {
     "data": {
      "image/png": "[encoded data removed]",
      "text/plain": [
       "<Figure size 640x480 with 1 Axes>"
      ]
     },
     "metadata": {},
     "output_type": "display_data"
    }
   ],
   "source": [
    "phi_opt, phis_opt = IRL.get_traj_features(xs_opt, us_opt)\n",
    "phi_nopt, phis_nopt = IRL.get_traj_features(xs_nopt, us_nopt)\n",
    "\n",
    "for i in range(len(IRL.Xs)):\n",
    "    xs = IRL.Xs[i]\n",
    "    us = IRL.Us[i]\n",
    "    phi, phis = IRL.get_traj_features(xs, us)\n",
    "    p = []\n",
    "    o = []\n",
    "    no = []\n",
    "    alpha=(i+1)*(1/len(IRL.Xs))\n",
    "    for p_, o_, no_ in zip(phis, phis_opt, phis_nopt):\n",
    "        p.append(np.linalg.norm(p_))\n",
    "        o.append(np.linalg.norm(o_))\n",
    "        no.append(np.linalg.norm(no_))\n",
    "\n",
    "    \n",
    "    plt.plot(p, color='red', alpha = alpha)\n",
    "plt.plot(p, color='blue')\n",
    "plt.plot(o, color='green')\n",
    "# plt.plot(no)\n",
    "\n",
    "print(np.linalg.norm(phi - phi_opt)/IRL.d_phi)"
   ]
  },
  {
   "cell_type": "code",
   "execution_count": 19,
   "id": "5afb9e9b-d969-46bc-bd21-708c5c7f5968",
   "metadata": {},
   "outputs": [],
   "source": [
    "### Working Set for Optimal Warm Start ###\n",
    "# norm_phi = np.linalg.norm(p_o - p_no[i]); den += norm_phi*(np.exp(-(c_no[i] - c_o)*1e-1)); \n",
    "# ## IRL Args\n",
    "# irl_args = {\n",
    "#     'solver': solver,\n",
    "#     'w_run': w_run_bad,\n",
    "#     'w_term': w_term_bad,\n",
    "#     'type': 'autoreg', 'irl_iter': 1, 'sqp_iter': 1, 'next_traj': 'optimal', 'lr': 1.0,\n",
    "#     'dt': dt,\n",
    "#     'line_search_steps': 15, 'line_search_base': 'cost',\n",
    "#     'use_bad': True, 'xs_nopt': xs_nopt, 'us_nopt': us_nopt,\n",
    "#     'normalize': False,\n",
    "#     'K_set': 2,\n",
    "#     'N_samples': T,\n",
    "#     'use_best': False,\n",
    "#     'Lambda': 0.001,\n",
    "#     'KL_tol': -10.0,\n",
    "#     'max_iter': 300, 'min_iter': 3,\n",
    "#     'compare_desired': True, 'des_run': w_run, 'des_term': w_term,\n",
    "#     'verbose': True\n",
    "# }"
   ]
  },
  {
   "cell_type": "code",
   "execution_count": 20,
   "id": "c2e9f263-b656-4dc2-ae71-86812c01eeac",
   "metadata": {},
   "outputs": [],
   "source": [
    "### Working Set for Latest Traj Warm Start ###\n",
    "# norm_phi = np.linalg.norm(p_o - p_no[i]); den += norm_phi*(np.exp(-(c_no[i] - c_o)*1e-1)); \n",
    "# ## IRL Args\n",
    "# irl_args = {\n",
    "#     'solver': solver,\n",
    "#     'w_run': w_run_bad,\n",
    "#     'w_term': w_term_bad,\n",
    "#     'type': 'autoreg', 'irl_iter': 1, 'sqp_iter': 1, 'next_traj': 'last', 'lr': 1.0,\n",
    "#     'dt': dt,\n",
    "#     'line_search_steps': 15, 'line_search_base': 'cost',\n",
    "#     'use_bad': True, 'xs_nopt': xs_nopt, 'us_nopt': us_nopt,\n",
    "#     'normalize': False,\n",
    "#     'K_set': 2,\n",
    "#     'N_samples': T,\n",
    "#     'use_best': False,\n",
    "#     'Lambda': 0.0,\n",
    "#     'KL_tol': -10.0,\n",
    "#     'max_iter': 300, 'min_iter': 15,\n",
    "#     'compare_desired': True, 'des_run': w_run, 'des_term': w_term,\n",
    "#     'verbose': True\n",
    "# }"
   ]
  }
 ],
 "metadata": {
  "kernelspec": {
   "display_name": "Python 3 (ipykernel)",
   "language": "python",
   "name": "python3"
  },
  "language_info": {
   "codemirror_mode": {
    "name": "ipython",
    "version": 3
   },
   "file_extension": ".py",
   "mimetype": "text/x-python",
   "name": "python",
   "nbconvert_exporter": "python",
   "pygments_lexer": "ipython3",
   "version": "3.10.12"
  }
 },
 "nbformat": 4,
 "nbformat_minor": 5
}
