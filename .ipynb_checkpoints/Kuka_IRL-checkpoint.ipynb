{
 "cells": [
  {
   "cell_type": "code",
   "execution_count": 1,
   "id": "75364ffc-506f-445c-8e74-1568b3ff6388",
   "metadata": {},
   "outputs": [
    {
     "name": "stderr",
     "output_type": "stream",
     "text": [
      "pybullet build time: Nov 28 2023 23:45:17\n"
     ]
    }
   ],
   "source": [
    "import crocoddyl\n",
    "import mujoco\n",
    "import mujoco.viewer\n",
    "import mim_solvers\n",
    "import numpy as np\n",
    "import matplotlib.pyplot as plt\n",
    "import hppfcl\n",
    "import time\n",
    "from os.path import dirname, join, abspath\n",
    "np.set_printoptions(precision=4, linewidth=180)\n",
    "\n",
    "import pin_utils, mpc_utils\n",
    "from Kuka_utils import *\n",
    "from Kuka_model import *\n",
    "from Kuka_Mujoco_utils import *\n",
    "from IRL_solver import IRL_Crocoddyl\n",
    "import pinocchio as pin\n",
    "from pinocchio.visualize import MeshcatVisualizer\n",
    "\n",
    "from mim_robots.pybullet.env import BulletEnvWithGround\n",
    "from mim_robots.robot_loader import load_bullet_wrapper, load_mujoco_model, get_robot_list, load_pinocchio_wrapper\n",
    "from mim_robots.robot_list import MiM_Robots\n",
    "from numpy.linalg import norm, solve\n",
    "from scipy.spatial.transform import Rotation as R\n",
    "from scipy.optimize import minimize\n",
    "from scipy.optimize import Bounds\n"
   ]
  },
  {
   "cell_type": "code",
   "execution_count": 2,
   "id": "4ce5e076-8e53-4cfa-bde5-cd503558ee45",
   "metadata": {},
   "outputs": [],
   "source": [
    "%run -i 'init.py'"
   ]
  },
  {
   "cell_type": "code",
   "execution_count": 3,
   "id": "e613c132-b09d-4fdc-b5ea-25ba60ebbd65",
   "metadata": {},
   "outputs": [],
   "source": [
    "obs_set = obstacle_set()\n",
    "obs_set.add_obs(np.array([0.65, -0.05, 0.7]), l = 0.05, col_r = 0.15)\n",
    "obs_set.add_obs(np.array([0.65, -0.15, 0.45]), l = 0.1, col_r = 0.15)\n",
    "obs_set.add_obs(np.array([0.65, -0.25, 0.7]), l = 0.1, col_r = 0.15)\n",
    "obs_num = obs_set.obs_num"
   ]
  },
  {
   "cell_type": "code",
   "execution_count": 4,
   "id": "0ad45435-aa63-4a35-bc86-e97b08da5d0b",
   "metadata": {},
   "outputs": [],
   "source": [
    "# endeff frame translation goal\n",
    "endeff_frame_id = pin_model.getFrameId(\"contact\")\n",
    "endeff_joint_id = pin_model.getJointId(\"contact\")\n",
    "# endeff_translation = pin_data.oMf[endeff_frame_id].translation.copy()\n",
    "endeff_translation = np.array([0.4,  -0.5,  0.35])"
   ]
  },
  {
   "cell_type": "code",
   "execution_count": 5,
   "id": "d05aa449-341c-499d-8b38-02a8477d245a",
   "metadata": {},
   "outputs": [],
   "source": [
    "w_run = {\n",
    "    'translation': .1,\n",
    "    'xReg': 0.1,\n",
    "    'uReg': 0.0001\n",
    "}\n",
    "\n",
    "w_term = {\n",
    "    'translation': 10,\n",
    "    'xReg': 0.1\n",
    "}\n",
    "\n",
    "w_run_bad = {\n",
    "    'translation': .0,\n",
    "    'xReg': 0.1,\n",
    "    'uReg': 0.0001\n",
    "}\n",
    "\n",
    "w_term_bad = {\n",
    "    'translation': 0.1,\n",
    "    'xReg': 0.1\n",
    "}\n",
    "\n",
    "# w_run_bad = {\n",
    "#     'xReg': 0.01,\n",
    "#     'uReg': 0.0,\n",
    "#     'translation': .0\n",
    "# }\n",
    "\n",
    "# w_term_bad = {\n",
    "#     'xReg': 0.0,\n",
    "#     'translation': .0    \n",
    "# }\n",
    "\n",
    "c=0\n",
    "for _ in range(obs_set.obs_num): # Adding Obstacle weights\n",
    "    w_run['collision'+str(c)] = 1000\n",
    "    w_term['collision'+str(c)] = 1000\n",
    "    w_run_bad['collision'+str(c)] = 0\n",
    "    w_term_bad['collision'+str(c)] = 0\n",
    "    c+=1\n",
    "\n",
    "w_run = dict(sorted(w_run.items()))\n",
    "w_term = dict(sorted(w_term.items()))\n",
    "w_run_bad = dict(sorted(w_run_bad.items()))\n",
    "w_term_bad = dict(sorted(w_term_bad.items()))\n",
    "\n",
    "w_run, w_term = normalize_w(w_run, w_term)\n",
    "w_run_bad, w_term_bad = normalize_w(w_run_bad, w_term_bad)"
   ]
  },
  {
   "cell_type": "code",
   "execution_count": 6,
   "id": "abe315a3-ec07-44d0-9ac2-776d5d68a918",
   "metadata": {},
   "outputs": [
    {
     "name": "stderr",
     "output_type": "stream",
     "text": [
      "/home/sarmad/machines-in-motion/my_git/IRL_Kuka/Kuka_utils.py:29: UserWarning: Deprecated member. Use Frame.parentJoint instead.\n",
      "  m.frames[pin_model.getFrameId(\"universe\")].parent,\n",
      "/home/sarmad/machines-in-motion/my_git/IRL_Kuka/Kuka_utils.py:27: UserWarning: This function has been marked as deprecated and will be removed in a future release.\n",
      "  obsObj = pin.GeometryObject(\"obstacle\"+str(num_obs),\n"
     ]
    }
   ],
   "source": [
    "dt = 1e-2\n",
    "T = 150\n",
    "\n",
    "solver, runningDatas, terminalData = init_robot(robot_simulator, q0, v0, obs_set, endeff_translation, w_run, w_term, dt, T)\n",
    "\n",
    "Keys_run = solver.problem.runningDatas[0].differential.costs.costs.todict().keys()\n",
    "Keys_term = solver.problem.terminalData.differential.costs.costs.todict().keys()\n",
    "nr_run = len(Keys_run); nr_term = len(Keys_term); nr = nr_run + nr_term\n",
    "\n",
    "xs_init = [x0 for i in range(T+1)]\n",
    "us_init = solver.problem.quasiStatic(xs_init[:-1])"
   ]
  },
  {
   "cell_type": "code",
   "execution_count": 7,
   "id": "fa64c54a-6a26-4751-bb74-a2f9d64c41ae",
   "metadata": {},
   "outputs": [],
   "source": [
    "# Solve \n",
    "update_solver_weights(solver, T, w_run, w_term)\n",
    "solver.termination_tolerance = 1e-4\n",
    "solver.with_callbacks = False\n",
    "solver.solve(xs_init, us_init, 500)\n",
    "xs_opt = solver.xs.copy()\n",
    "us_opt = solver.us.copy()"
   ]
  },
  {
   "cell_type": "code",
   "execution_count": 8,
   "id": "0d682378-15b9-4f8b-8ffb-ecdbd8eda75a",
   "metadata": {},
   "outputs": [],
   "source": [
    "update_solver_weights(solver, T, w_run_bad, w_term_bad)\n",
    "solver.termination_tolerance = 1e-4\n",
    "solver.with_callbacks = False\n",
    "solver.solve(xs_init, us_init, 500)\n",
    "xs_nopt = solver.xs.copy()\n",
    "us_nopt = solver.us.copy()"
   ]
  },
  {
   "cell_type": "code",
   "execution_count": 10,
   "id": "a461df6f-14a8-48b8-9c18-181fe58886a3",
   "metadata": {},
   "outputs": [],
   "source": [
    "## IRL Args\n",
    "irl_args = {\n",
    "    'solver': solver,\n",
    "    'w_run': w_run_bad,\n",
    "    'w_term': w_term_bad,\n",
    "    'type': 'autoreg', 'irl_iter': 1, 'sqp_iter': 1, 'next_traj': 'optimal', 'lr': 1.0,\n",
    "    'dt': dt,\n",
    "    'line_search_steps': 10, 'line_search_base': 'opt',\n",
    "    'use_bad': True, 'xs_nopt': xs_nopt, 'us_nopt': us_nopt,\n",
    "    'normalize': False,\n",
    "    'K_set': 3,\n",
    "    'N_samples': T,\n",
    "    'use_best': False,\n",
    "    'Lambda': 0.0,\n",
    "    'KL_tol': -10.0,\n",
    "    'max_iter': 300, 'min_iter': 15,\n",
    "    'compare_desired': True, 'des_run': w_run, 'des_term': w_term,\n",
    "    'verbose': True\n",
    "}"
   ]
  },
  {
   "cell_type": "code",
   "execution_count": 11,
   "id": "7a88af94-1d1a-4f93-9cf3-7f1291210656",
   "metadata": {},
   "outputs": [
    {
     "name": "stdout",
     "output_type": "stream",
     "text": [
      "IRL Parameters:\n",
      "Initial Running Weight:  {'collision0': 0.0, 'collision1': 0.0, 'collision2': 0.0, 'translation': 0.0, 'uReg': 0.001, 'xReg': 1.0}\n",
      "Initial Terminal Weight:  {'collision0': 0.0, 'collision1': 0.0, 'collision2': 0.0, 'translation': 1.0, 'xReg': 1.0}\n",
      "Type:  autoreg\n",
      "Set Size:  3\n",
      "Sample Size:  150\n",
      "Lambda:  0.0\n",
      "SQP Iterations:  1\n",
      "IRL Max Iteration:  300\n",
      "Sample Time:  0.01\n"
     ]
    }
   ],
   "source": [
    "if 'IRL' in globals():\n",
    "    del(IRL)\n",
    "IRL = IRL_Crocoddyl(xs_opt, us_opt, irl_args)\n",
    "IRL.print_info()"
   ]
  },
  {
   "cell_type": "code",
   "execution_count": 12,
   "id": "a5d0e71a-4c23-4a5b-a136-f672b9a7c5ce",
   "metadata": {},
   "outputs": [
    {
     "name": "stdout",
     "output_type": "stream",
     "text": [
      "-- iter -- KL_div ---- KL_des ---- Opt Div --- Cost Diff --- Fcn Val ---- Step ---\n",
      "||   0  || 2.206009 || 1.558945 || 0.130597 || 42.770513 || 4.783558 || 1.000\n",
      "||   1  || 0.456921 || 0.000048 || 0.759358 || 0.000000 || 156.699612 || 1.000\n",
      "||   2  || 0.000000 || 0.000009 || 0.758925 || 0.000000 || 201.921738 || 0.000\n",
      "||   3  || 0.000000 || 0.000000 || 0.759344 || 0.000000 || 203.775794 || 1.000\n",
      "||   4  || 0.000000 || 0.000000 || 0.747474 || 0.000000 || 207.922028 || 0.000\n",
      "Hard termination criteria met.\n",
      "Duration:  2.1352341175079346\n"
     ]
    }
   ],
   "source": [
    "begin_time = time.time()\n",
    "IRL.solve_irl()\n",
    "end_time = time.time()\n",
    "last_x = IRL.last_traj[0]; last_u = IRL.last_traj[1]\n",
    "best_x = IRL.best_traj[0]; best_u = IRL.best_traj[1]\n",
    "print('Duration: ', end_time - begin_time)"
   ]
  },
  {
   "cell_type": "code",
   "execution_count": 13,
   "id": "e2b0ba7d-f05c-4fe2-af9c-855cee28b6e7",
   "metadata": {},
   "outputs": [],
   "source": [
    "# w_irl_run, w_irl_term = IRL.vector_to_dict(IRL.last_w[0], IRL.last_w[1])\n",
    "# print('Last Cost: ', IRL.get_traj_costs(IRL.phis_set[-1], IRL.last_w[0], IRL.last_w[1])[0])\n",
    "# print('Best Cost: ', IRL.get_traj_costs(IRL.phis_set[IRL.best_ind], IRL.best_w[0], IRL.best_w[1])[0])"
   ]
  },
  {
   "cell_type": "code",
   "execution_count": 14,
   "id": "b6ee832d-7888-4928-9ad2-1e3b7de9ee02",
   "metadata": {},
   "outputs": [
    {
     "name": "stdout",
     "output_type": "stream",
     "text": [
      "iteration:  5\n"
     ]
    },
    {
     "data": {
      "text/plain": [
       "9.449403568847042e-08"
      ]
     },
     "execution_count": 14,
     "metadata": {},
     "output_type": "execute_result"
    }
   ],
   "source": [
    "cost_set = []\n",
    "for i in range(len(IRL.Xs)-1):\n",
    "    dc = IRL.get_traj_costs(IRL.phis_set[i], IRL.ws[i][0], IRL.ws[i][1])[0] - IRL.get_traj_costs(IRL.phis_opt, IRL.ws[i][0], IRL.ws[i][1])[0]\n",
    "    # print('Cost Diff: ', dc)\n",
    "    cost_set.append(dc**2)\n",
    "# plt.semilogy(cost_set)\n",
    "addr = np.argmin(np.array(cost_set[1:]))\n",
    "print('iteration: ', addr)\n",
    "cost_set[addr]"
   ]
  },
  {
   "cell_type": "code",
   "execution_count": 15,
   "id": "47b7a162-5229-44dd-8bdb-de15d8baca06",
   "metadata": {},
   "outputs": [
    {
     "name": "stdout",
     "output_type": "stream",
     "text": [
      "Running\n",
      "collision0 :\n",
      "Desired: 1.00000 || Initial: 0.00000 || Chosen: 0.09853\n",
      "collision1 :\n",
      "Desired: 1.00000 || Initial: 0.00000 || Chosen: 1.00000\n",
      "collision2 :\n",
      "Desired: 1.00000 || Initial: 0.00000 || Chosen: 0.13282\n",
      "translation :\n",
      "Desired: 0.00010 || Initial: 0.00000 || Chosen: 0.00000\n",
      "uReg :\n",
      "Desired: 0.00000 || Initial: 0.00100 || Chosen: 0.00000\n",
      "xReg :\n",
      "Desired: 0.00010 || Initial: 1.00000 || Chosen: 0.00002\n",
      "\n",
      "Terminal\n",
      "collision0 :\n",
      "Desired: 1.00000 || Initial: 0.00000 || Chosen: 0.00004\n",
      "collision1 :\n",
      "Desired: 1.00000 || Initial: 0.00000 || Chosen: 0.00769\n",
      "collision2 :\n",
      "Desired: 1.00000 || Initial: 0.00000 || Chosen: 0.00407\n",
      "translation :\n",
      "Desired: 0.01000 || Initial: 1.00000 || Chosen: 0.16338\n",
      "xReg :\n",
      "Desired: 0.00010 || Initial: 1.00000 || Chosen: 0.00000\n"
     ]
    }
   ],
   "source": [
    "w_chosen_run = IRL.ws[addr][0]; w_chosen_term = IRL.ws[addr][1]\n",
    "print('Running')\n",
    "for i, key in enumerate(IRL.keys_run):\n",
    "    print(key, ':')\n",
    "    print('Desired: {:.5f} || Initial: {:.5f} || Chosen: {:.5f}'.format(list(w_run.values())[i],\n",
    "                                                                        list(w_run_bad.values())[i],\n",
    "                                                                  w_chosen_run[i]))\n",
    "    # print('Desired: {:.4f} || Best: {:.4f}'.format(list(w_run.values())[i],IRL.best_w[0][i]))\n",
    "print()\n",
    "print('Terminal')\n",
    "for i, key in enumerate(IRL.keys_term):\n",
    "    print(key, ':')\n",
    "    print('Desired: {:.5f} || Initial: {:.5f} || Chosen: {:.5f}'.format(list(w_term.values())[i], \n",
    "                                                                        list(w_term_bad.values())[i], \n",
    "                                                                  w_chosen_term[i]))\n",
    "    # print('Desired: {:.4f} || Best: {:.4f}'.format(list(w_term.values())[i], IRL.best_w[1][i]))\n"
   ]
  },
  {
   "cell_type": "code",
   "execution_count": 18,
   "id": "fc941513-9c05-4962-9df4-8166bab68ea5",
   "metadata": {},
   "outputs": [],
   "source": [
    "n = addr\n",
    "# n = -1\n",
    "xs = IRL.Xs[n]\n",
    "us = IRL.Us[n]\n",
    "viewer = init_mujoco(mj_model, mj_data, q0, np.zeros(nq), obs_set, endeff_translation)\n",
    "time.sleep(4)\n",
    "# for i in range(IRL.max_iter):\n",
    "#     run_traj(viewer, mj_model, mj_data, pin_model, pin_data, IRL.Xs[i], IRL.Us[i], dt)\n",
    "run_traj(viewer, mj_model, mj_data, pin_model, pin_data, xs, us, dt)\n",
    "# run_traj(viewer, mj_model, mj_data, pin_model, pin_data, xs_opt, us_opt, dt)\n",
    "# run_traj(viewer, mj_model, mj_data, pin_model, pin_data, best_x, best_u, dt)\n",
    "# run_traj(viewer, mj_model, mj_data, pin_model, pin_data, last_x, last_u, dt)"
   ]
  },
  {
   "cell_type": "code",
   "execution_count": 17,
   "id": "99cd11f7-e53b-4bbb-a664-e255e33c4b42",
   "metadata": {},
   "outputs": [],
   "source": [
    "W = np.stack([IRL.ws[i][-1] for i in range(len(IRL.ws))])"
   ]
  },
  {
   "cell_type": "code",
   "execution_count": 19,
   "id": "87b561c2-e7f3-450f-8099-53cc1508888d",
   "metadata": {},
   "outputs": [],
   "source": []
  },
  {
   "cell_type": "code",
   "execution_count": 20,
   "id": "9c5d5792-b161-4f33-a685-742b9f099bb0",
   "metadata": {},
   "outputs": [],
   "source": []
  },
  {
   "cell_type": "code",
   "execution_count": 26,
   "id": "7ae16ac8-e25e-477c-8f20-a1cf8ed2b6e8",
   "metadata": {},
   "outputs": [
    {
     "data": {
      "text/plain": [
       "array([3.0526e-05, 8.3006e-05, 1.7573e-05, 1.5886e+01, 6.6437e+03, 2.4549e+02, 0.0000e+00, 0.0000e+00, 0.0000e+00, 2.9753e-04, 6.3199e-01])"
      ]
     },
     "execution_count": 26,
     "metadata": {},
     "output_type": "execute_result"
    }
   ],
   "source": [
    "phi_opt"
   ]
  },
  {
   "cell_type": "code",
   "execution_count": 27,
   "id": "8d4c2d4a-7364-4f61-a58e-8583313d9600",
   "metadata": {},
   "outputs": [
    {
     "data": {
      "text/plain": [
       "array([0.0000e+00, 0.0000e+00, 4.9405e-06, 1.5789e+01, 6.4167e+03, 2.8312e+02, 0.0000e+00, 0.0000e+00, 0.0000e+00, 2.0793e-07, 6.7968e-01])"
      ]
     },
     "execution_count": 27,
     "metadata": {},
     "output_type": "execute_result"
    }
   ],
   "source": [
    "phi_nopt"
   ]
  },
  {
   "cell_type": "code",
   "execution_count": 52,
   "id": "4f93b66a-c4a2-494d-bafc-76a636eba9a8",
   "metadata": {},
   "outputs": [
    {
     "name": "stdout",
     "output_type": "stream",
     "text": [
      "196.88955322547204\n",
      "28421.66076281282\n",
      "0.006927447163224335\n"
     ]
    },
    {
     "data": {
      "image/png": "[encoded data removed]",
      "text/plain": [
       "<Figure size 640x480 with 1 Axes>"
      ]
     },
     "metadata": {},
     "output_type": "display_data"
    }
   ],
   "source": [
    "phi_opt, phis_opt = IRL.get_traj_features(xs_opt, us_opt)\n",
    "phi_nopt, phis_nopt = IRL.get_traj_features(xs_nopt, us_nopt)\n",
    "phi, phis = IRL.get_traj_features(xs, us)\n",
    "\n",
    "p = []\n",
    "o = []\n",
    "no = []\n",
    "for p_, o_, no_ in zip(phis, phis_opt, phis_nopt):\n",
    "    p.append(np.linalg.norm(p_))\n",
    "    o.append(np.linalg.norm(o_))\n",
    "    no.append(np.linalg.norm(no_))\n",
    "\n",
    "plt.plot(p)\n",
    "plt.plot(o)\n",
    "plt.plot(no)\n",
    "\n",
    "print(np.linalg.norm(phi - phi_opt))\n",
    "print(np.linalg.norm(phi_nopt - phi_opt))\n",
    "print(np.linalg.norm(phi - phi_opt)/np.linalg.norm(phi_nopt - phi_opt))"
   ]
  },
  {
   "cell_type": "code",
   "execution_count": 49,
   "id": "c3e362ad-7a42-401c-916e-de4283f16b07",
   "metadata": {},
   "outputs": [
    {
     "name": "stdout",
     "output_type": "stream",
     "text": [
      "0.0 0.0\n",
      "1.0 1.0\n",
      "0.626076936189535 0.626076936189535\n",
      "0.00809477410991094 0.00809477410991094\n",
      "0.008069543050989553 0.008069543050989553\n",
      "0.008093059690256834 0.008093059690256834\n",
      "0.007009841456360547 0.007009841456360547\n",
      "0.006927447163224335 0.006927447163224335\n"
     ]
    }
   ],
   "source": [
    "for i in range(len(IRL.Xs)):\n",
    "    xs = IRL.Xs[i]\n",
    "    us = IRL.Us[i]\n",
    "    phi_, phis_ = IRL.get_traj_features(xs, us)\n",
    "    print(np.linalg.norm(phis_[-1] - phis_opt[-1])/np.linalg.norm(phis_nopt[-1] - phis_opt[-1]),\n",
    "         np.linalg.norm(phi_ - phi_opt)/np.linalg.norm(phi_nopt - phi_opt))"
   ]
  },
  {
   "cell_type": "code",
   "execution_count": null,
   "id": "5a87b6cc-7fdd-414a-aed6-f745dde58cd8",
   "metadata": {},
   "outputs": [],
   "source": []
  }
 ],
 "metadata": {
  "kernelspec": {
   "display_name": "Python 3 (ipykernel)",
   "language": "python",
   "name": "python3"
  },
  "language_info": {
   "codemirror_mode": {
    "name": "ipython",
    "version": 3
   },
   "file_extension": ".py",
   "mimetype": "text/x-python",
   "name": "python",
   "nbconvert_exporter": "python",
   "pygments_lexer": "ipython3",
   "version": "3.10.12"
  }
 },
 "nbformat": 4,
 "nbformat_minor": 5
}
