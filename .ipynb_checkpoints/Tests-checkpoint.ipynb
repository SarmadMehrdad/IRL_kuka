{
 "cells": [
  {
   "cell_type": "code",
   "execution_count": 1,
   "id": "9a3fcb7d-04b0-4edf-9004-bfcc661fd392",
   "metadata": {},
   "outputs": [
    {
     "name": "stderr",
     "output_type": "stream",
     "text": [
      "pybullet build time: Nov 28 2023 23:45:17\n"
     ]
    }
   ],
   "source": [
    "import crocoddyl\n",
    "import mujoco\n",
    "import mujoco.viewer\n",
    "import mim_solvers\n",
    "import numpy as np\n",
    "import matplotlib.pyplot as plt\n",
    "import hppfcl\n",
    "import time\n",
    "from os.path import dirname, join, abspath\n",
    "np.set_printoptions(precision=4, linewidth=180)\n",
    "\n",
    "import pin_utils, mpc_utils\n",
    "from Kuka_utils import *\n",
    "from Kuka_model import *\n",
    "from Kuka_Mujoco_utils import *\n",
    "from IRL_solver import IRL_Crocoddyl\n",
    "import pinocchio as pin\n",
    "from pinocchio.visualize import MeshcatVisualizer\n",
    "\n",
    "from mim_robots.pybullet.env import BulletEnvWithGround\n",
    "from mim_robots.robot_loader import load_bullet_wrapper, load_mujoco_model, get_robot_list, load_pinocchio_wrapper\n",
    "from mim_robots.robot_list import MiM_Robots\n",
    "from numpy.linalg import norm, solve\n",
    "from scipy.spatial.transform import Rotation as R\n",
    "from scipy.optimize import minimize\n",
    "from scipy.optimize import Bounds\n"
   ]
  },
  {
   "cell_type": "code",
   "execution_count": 2,
   "id": "d671918f-35f2-443a-a71a-3f9313dfe163",
   "metadata": {},
   "outputs": [],
   "source": [
    "%run -i 'init.py'"
   ]
  },
  {
   "cell_type": "code",
   "execution_count": 3,
   "id": "aa08439d-716f-4078-b34d-5d2369a480c9",
   "metadata": {},
   "outputs": [],
   "source": [
    "obs_set = obstacle_set()\n",
    "obs_set.add_obs(np.array([0.65, -0.05, 0.7]), l = 0.05, col_r = 0.15)\n",
    "obs_set.add_obs(np.array([0.65, -0.15, 0.45]), l = 0.1, col_r = 0.15)\n",
    "obs_set.add_obs(np.array([0.65, -0.25, 0.7]), l = 0.1, col_r = 0.15)\n",
    "obs_num = obs_set.obs_num"
   ]
  },
  {
   "cell_type": "code",
   "execution_count": 4,
   "id": "6a40c660-56f4-4cb1-aefd-9208764073b8",
   "metadata": {},
   "outputs": [],
   "source": [
    "# endeff frame translation goal\n",
    "endeff_frame_id = pin_model.getFrameId(\"contact\")\n",
    "endeff_joint_id = pin_model.getJointId(\"contact\")\n",
    "# endeff_translation = pin_data.oMf[endeff_frame_id].translation.copy()\n",
    "endeff_translation = np.array([0.4,  -0.5,  0.35])"
   ]
  },
  {
   "cell_type": "code",
   "execution_count": 5,
   "id": "c18fdaad-f8d7-4a3a-b6c0-3f4f56f4af6a",
   "metadata": {},
   "outputs": [],
   "source": [
    "w_run = {\n",
    "    'translation': .1,\n",
    "    'xReg': 0.1,\n",
    "    'uReg': 0.0001\n",
    "}\n",
    "\n",
    "w_term = {\n",
    "    'translation': 10,\n",
    "    'xReg': 0.1\n",
    "}\n",
    "\n",
    "# w_run_bad = {\n",
    "#     'translation': .0,\n",
    "#     'xReg': 0.1,\n",
    "#     'uReg': 0.0001\n",
    "# }\n",
    "\n",
    "# w_term_bad = {\n",
    "#     'translation': 0.0,\n",
    "#     'xReg': 0.1\n",
    "# }\n",
    "\n",
    "w_run_bad = {\n",
    "    'xReg': 0.01,\n",
    "    'uReg': 0.01,\n",
    "    'translation': .01\n",
    "}\n",
    "\n",
    "w_term_bad = {\n",
    "    'xReg': 0.01,\n",
    "    'translation': .01   \n",
    "}\n",
    "\n",
    "c=0\n",
    "for _ in range(obs_set.obs_num): # Adding Obstacle weights\n",
    "    w_run['collision'+str(c)] = 1000\n",
    "    w_term['collision'+str(c)] = 1000\n",
    "    w_run_bad['collision'+str(c)] = 0\n",
    "    w_term_bad['collision'+str(c)] = 0\n",
    "    c+=1\n",
    "\n",
    "w_run = dict(sorted(w_run.items()))\n",
    "w_term = dict(sorted(w_term.items()))\n",
    "w_run_bad = dict(sorted(w_run_bad.items()))\n",
    "w_term_bad = dict(sorted(w_term_bad.items()))\n",
    "\n",
    "w_run, w_term = normalize_w(w_run, w_term)\n",
    "w_run_bad, w_term_bad = normalize_w(w_run_bad, w_term_bad)"
   ]
  },
  {
   "cell_type": "code",
   "execution_count": 6,
   "id": "50f15230-770f-4b4e-ba6d-606d52a8a811",
   "metadata": {},
   "outputs": [
    {
     "name": "stderr",
     "output_type": "stream",
     "text": [
      "/home/sarmad/machines-in-motion/my_git/IRL_Kuka/Kuka_utils.py:29: UserWarning: Deprecated member. Use Frame.parentJoint instead.\n",
      "  m.frames[pin_model.getFrameId(\"universe\")].parent,\n",
      "/home/sarmad/machines-in-motion/my_git/IRL_Kuka/Kuka_utils.py:27: UserWarning: This function has been marked as deprecated and will be removed in a future release.\n",
      "  obsObj = pin.GeometryObject(\"obstacle\"+str(num_obs),\n"
     ]
    }
   ],
   "source": [
    "dt = 1e-2\n",
    "T = 150\n",
    "\n",
    "solver, runningDatas, terminalData = init_robot(robot_simulator, q0, v0, obs_set, endeff_translation, w_run, w_term, dt, T)\n",
    "\n",
    "Keys_run = solver.problem.runningDatas[0].differential.costs.costs.todict().keys()\n",
    "Keys_term = solver.problem.terminalData.differential.costs.costs.todict().keys()\n",
    "nr_run = len(Keys_run); nr_term = len(Keys_term); nr = nr_run + nr_term\n",
    "\n",
    "xs_init = [x0 for i in range(T+1)]\n",
    "us_init = solver.problem.quasiStatic(xs_init[:-1])"
   ]
  },
  {
   "cell_type": "code",
   "execution_count": 7,
   "id": "ead45ab0-f7b9-4621-a744-f631af4c6f19",
   "metadata": {},
   "outputs": [],
   "source": [
    "# Solve \n",
    "update_solver_weights(solver, T, w_run, w_term)\n",
    "solver.termination_tolerance = 1e-4\n",
    "solver.with_callbacks = False\n",
    "solver.solve(xs_init, us_init, 500)\n",
    "xs_opt = solver.xs.copy()\n",
    "us_opt = solver.us.copy()"
   ]
  },
  {
   "cell_type": "code",
   "execution_count": 8,
   "id": "d80f8fe8-fae3-45dd-a49d-ffa77f84dfed",
   "metadata": {},
   "outputs": [],
   "source": [
    "## IRL Args\n",
    "irl_args = {\n",
    "    'solver': solver,\n",
    "    'w_run': w_run_bad,\n",
    "    'w_term': w_term_bad,\n",
    "    'type': 'autoreg', 'irl_iter': 1, 'sqp_iter': 1, 'next_traj': 'optimal', 'lr': 1.0,\n",
    "    'dt': dt,\n",
    "    'line_search_steps': 15, 'line_search_base': 'cost',\n",
    "    'use_bad': False,\n",
    "    'normalize': False,\n",
    "    'K_set': 5,\n",
    "    'N_samples': T,\n",
    "    'use_best': False,\n",
    "    'Lambda': 0.0,\n",
    "    'KL_tol': -10.0,\n",
    "    'max_iter': 300, 'min_iter': 15,\n",
    "    'compare_desired': True, 'des_run': w_run, 'des_term': w_term,\n",
    "    'verbose': True\n",
    "}"
   ]
  },
  {
   "cell_type": "code",
   "execution_count": 9,
   "id": "292736e5-ab2f-4440-978a-c2c421dfdad7",
   "metadata": {},
   "outputs": [
    {
     "name": "stdout",
     "output_type": "stream",
     "text": [
      "IRL Parameters:\n",
      "Initial Running Weight:  {'collision0': 0.0, 'collision1': 0.0, 'collision2': 0.0, 'translation': 1.0, 'uReg': 1.0, 'xReg': 1.0}\n",
      "Initial Terminal Weight:  {'collision0': 0.0, 'collision1': 0.0, 'collision2': 0.0, 'translation': 1.0, 'xReg': 1.0}\n",
      "Type:  autoreg\n",
      "Set Size:  5\n",
      "Sample Size:  150\n",
      "Lambda:  0.0\n",
      "SQP Iterations:  1\n",
      "IRL Max Iteration:  300\n",
      "Sample Time:  0.01\n"
     ]
    }
   ],
   "source": [
    "if 'IRL' in globals():\n",
    "    del(IRL)\n",
    "IRL = IRL_Crocoddyl(xs_opt, us_opt, irl_args)\n",
    "IRL.print_info()"
   ]
  },
  {
   "cell_type": "code",
   "execution_count": 10,
   "id": "74ed3558-ec64-4630-b32f-734d87490323",
   "metadata": {},
   "outputs": [
    {
     "name": "stdout",
     "output_type": "stream",
     "text": [
      "-- iter -- KL_div ---- KL_des ---- Opt Div --- Cost Diff --- Fcn Val ---- Step ---\n",
      "||   0  || 0.000038 || 0.000000 || 2.760459 || 10880.094241 || 104.024944 || 1.000\n",
      "||   1  || 0.000000 || 0.000000 || 3.292157 || 8016.251871 || 164.853898 || 1.000\n",
      "||   2  || 0.000000 || 0.000000 || 4.112905 || 5440.693855 || 208.001794 || 1.000\n",
      "||   3  || 0.000000 || 0.000000 || 5.438890 || 3336.446200 || 241.463332 || 1.000\n",
      "||   4  || 0.000000 || 0.000000 || 7.801643 || 1765.284009 || 268.798868 || 1.000\n",
      "||   5  || 0.000000 || 0.000000 || 0.521920 || 1719.151105 || 268.801059 || 0.004\n",
      "||   6  || 0.000000 || 0.000000 || 12.406881 || 765.771290 || 268.787283 || 1.000\n",
      "||   7  || 0.000000 || 0.000000 || 23.897397 || 221.221265 || 268.774416 || 1.000\n",
      "||   8  || 0.000000 || 0.000000 || 0.516260 || 188.282411 || 268.773642 || 0.001\n",
      "Hard termination criteria met.\n",
      "Duration:  4.183285236358643\n"
     ]
    }
   ],
   "source": [
    "begin_time = time.time()\n",
    "IRL.solve_irl()\n",
    "end_time = time.time()\n",
    "last_x = IRL.last_traj[0]; last_u = IRL.last_traj[1]\n",
    "best_x = IRL.best_traj[0]; best_u = IRL.best_traj[1]\n",
    "print('Duration: ', end_time - begin_time)"
   ]
  },
  {
   "cell_type": "code",
   "execution_count": 11,
   "id": "e8908ad8-2b60-4795-8d7b-c0978adbd84f",
   "metadata": {},
   "outputs": [
    {
     "name": "stdout",
     "output_type": "stream",
     "text": [
      "Running\n",
      "collision0 :\n",
      "Desired: 1.00000 || Initial: 0.00000 || Chosen: 0.00113\n",
      "collision1 :\n",
      "Desired: 1.00000 || Initial: 0.00000 || Chosen: 0.00153\n",
      "collision2 :\n",
      "Desired: 1.00000 || Initial: 0.00000 || Chosen: 0.00005\n",
      "translation :\n",
      "Desired: 0.00010 || Initial: 1.00000 || Chosen: 1.00000\n",
      "uReg :\n",
      "Desired: 0.00000 || Initial: 1.00000 || Chosen: 0.00098\n",
      "xReg :\n",
      "Desired: 0.00010 || Initial: 1.00000 || Chosen: 0.18353\n",
      "\n",
      "Terminal\n",
      "collision0 :\n",
      "Desired: 1.00000 || Initial: 0.00000 || Chosen: 0.00002\n",
      "collision1 :\n",
      "Desired: 1.00000 || Initial: 0.00000 || Chosen: 0.00006\n",
      "collision2 :\n",
      "Desired: 1.00000 || Initial: 0.00000 || Chosen: 0.00001\n",
      "translation :\n",
      "Desired: 0.01000 || Initial: 1.00000 || Chosen: 0.90095\n",
      "xReg :\n",
      "Desired: 0.00010 || Initial: 1.00000 || Chosen: 0.89525\n"
     ]
    }
   ],
   "source": [
    "addr = -1\n",
    "w_chosen_run = IRL.ws[addr][0]; w_chosen_term = IRL.ws[addr][1]\n",
    "print('Running')\n",
    "for i, key in enumerate(IRL.keys_run):\n",
    "    print(key, ':')\n",
    "    print('Desired: {:.5f} || Initial: {:.5f} || Chosen: {:.5f}'.format(list(w_run.values())[i],\n",
    "                                                                        list(w_run_bad.values())[i],\n",
    "                                                                  w_chosen_run[i]))\n",
    "    # print('Desired: {:.4f} || Best: {:.4f}'.format(list(w_run.values())[i],IRL.best_w[0][i]))\n",
    "print()\n",
    "print('Terminal')\n",
    "for i, key in enumerate(IRL.keys_term):\n",
    "    print(key, ':')\n",
    "    print('Desired: {:.5f} || Initial: {:.5f} || Chosen: {:.5f}'.format(list(w_term.values())[i], \n",
    "                                                                        list(w_term_bad.values())[i], \n",
    "                                                                  w_chosen_term[i]))\n",
    "    # print('Desired: {:.4f} || Best: {:.4f}'.format(list(w_term.values())[i], IRL.best_w[1][i]))\n"
   ]
  },
  {
   "cell_type": "code",
   "execution_count": 12,
   "id": "8697f995-bfec-43eb-9454-222903847ee5",
   "metadata": {},
   "outputs": [],
   "source": [
    "# n = addr\n",
    "n = -1\n",
    "xs = IRL.Xs[n]\n",
    "us = IRL.Us[n]\n",
    "viewer = init_mujoco(mj_model, mj_data, q0, np.zeros(nq), obs_set, endeff_translation)\n",
    "time.sleep(4)\n",
    "# for i in range(IRL.max_iter):\n",
    "#     run_traj(viewer, mj_model, mj_data, pin_model, pin_data, IRL.Xs[i], IRL.Us[i], dt)\n",
    "run_traj(viewer, mj_model, mj_data, pin_model, pin_data, xs, us, dt)\n",
    "# run_traj(viewer, mj_model, mj_data, pin_model, pin_data, xs_opt, us_opt, dt)\n",
    "# run_traj(viewer, mj_model, mj_data, pin_model, pin_data, best_x, best_u, dt)\n",
    "# run_traj(viewer, mj_model, mj_data, pin_model, pin_data, last_x, last_u, dt)"
   ]
  },
  {
   "cell_type": "code",
   "execution_count": 13,
   "id": "a6103bba-12bd-4e0f-8fa6-0bbbc99d9ba8",
   "metadata": {},
   "outputs": [
    {
     "data": {
      "text/plain": [
       "12"
      ]
     },
     "execution_count": 13,
     "metadata": {},
     "output_type": "execute_result"
    }
   ],
   "source": [
    "len(IRL.Xs)"
   ]
  },
  {
   "cell_type": "code",
   "execution_count": null,
   "id": "ebe49fb7-c1aa-46c2-b2cc-958bbbac5ef6",
   "metadata": {},
   "outputs": [],
   "source": []
  }
 ],
 "metadata": {
  "kernelspec": {
   "display_name": "Python 3 (ipykernel)",
   "language": "python",
   "name": "python3"
  },
  "language_info": {
   "codemirror_mode": {
    "name": "ipython",
    "version": 3
   },
   "file_extension": ".py",
   "mimetype": "text/x-python",
   "name": "python",
   "nbconvert_exporter": "python",
   "pygments_lexer": "ipython3",
   "version": "3.10.12"
  }
 },
 "nbformat": 4,
 "nbformat_minor": 5
}
