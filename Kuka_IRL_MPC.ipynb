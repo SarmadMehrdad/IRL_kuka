{
 "cells": [
  {
   "cell_type": "code",
   "execution_count": 1,
   "id": "deeb8a53-e1b1-4124-8c90-2caae3d5c397",
   "metadata": {},
   "outputs": [
    {
     "name": "stderr",
     "output_type": "stream",
     "text": [
      "pybullet build time: Nov 28 2023 23:45:17\n"
     ]
    }
   ],
   "source": [
    "import crocoddyl\n",
    "import mujoco\n",
    "import mujoco.viewer\n",
    "import mim_solvers\n",
    "import numpy as np\n",
    "import matplotlib.pyplot as plt\n",
    "import hppfcl\n",
    "import time\n",
    "from os.path import dirname, join, abspath\n",
    "np.set_printoptions(precision=4, linewidth=180)\n",
    "\n",
    "import pin_utils, mpc_utils\n",
    "from Kuka_utils import *\n",
    "from Kuka_model import *\n",
    "from Kuka_Mujoco_utils import *\n",
    "from IRL_solver import IRL_Crocoddyl\n",
    "import pinocchio as pin\n",
    "from pinocchio.visualize import MeshcatVisualizer\n",
    "\n",
    "from mim_robots.pybullet.env import BulletEnvWithGround\n",
    "from mim_robots.robot_loader import load_bullet_wrapper, load_mujoco_model, get_robot_list, load_pinocchio_wrapper\n",
    "from mim_robots.robot_list import MiM_Robots\n",
    "from numpy.linalg import norm, solve\n",
    "from scipy.spatial.transform import Rotation as R\n",
    "from scipy.optimize import minimize\n",
    "from scipy.optimize import Bounds\n"
   ]
  },
  {
   "cell_type": "code",
   "execution_count": null,
   "id": "f1873f7c-7178-4abe-9aba-d713765e2dee",
   "metadata": {},
   "outputs": [],
   "source": []
  }
 ],
 "metadata": {
  "kernelspec": {
   "display_name": "Python 3 (ipykernel)",
   "language": "python",
   "name": "python3"
  },
  "language_info": {
   "codemirror_mode": {
    "name": "ipython",
    "version": 3
   },
   "file_extension": ".py",
   "mimetype": "text/x-python",
   "name": "python",
   "nbconvert_exporter": "python",
   "pygments_lexer": "ipython3",
   "version": "3.10.12"
  }
 },
 "nbformat": 4,
 "nbformat_minor": 5
}
