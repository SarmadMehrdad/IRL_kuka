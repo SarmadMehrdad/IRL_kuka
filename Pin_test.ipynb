{
 "cells": [
  {
   "cell_type": "code",
   "execution_count": 1,
   "id": "7a012985-c60a-4310-9032-4bb371550bea",
   "metadata": {},
   "outputs": [
    {
     "name": "stderr",
     "output_type": "stream",
     "text": [
      "pybullet build time: Nov 28 2023 23:45:17\n"
     ]
    }
   ],
   "source": [
    "import crocoddyl\n",
    "import mujoco\n",
    "import mujoco.viewer\n",
    "import mim_solvers\n",
    "import numpy as np\n",
    "import matplotlib.pyplot as plt\n",
    "import hppfcl\n",
    "import time\n",
    "from os.path import dirname, join, abspath\n",
    "np.set_printoptions(precision=4, linewidth=180)\n",
    "\n",
    "import pin_utils, mpc_utils\n",
    "from Kuka_utils import *\n",
    "from Kuka_model import *\n",
    "from Kuka_Mujoco_utils import *\n",
    "from IRL_solver import IRL_Crocoddyl\n",
    "import pinocchio as pin\n",
    "from pinocchio.visualize import MeshcatVisualizer\n",
    "\n",
    "from mim_robots.pybullet.env import BulletEnvWithGround\n",
    "from mim_robots.robot_loader import load_bullet_wrapper, load_mujoco_model, get_robot_list, load_pinocchio_wrapper\n",
    "from mim_robots.robot_list import MiM_Robots\n",
    "from numpy.linalg import norm, solve\n",
    "from scipy.spatial.transform import Rotation as R\n",
    "from scipy.optimize import minimize\n",
    "from scipy.optimize import Bounds\n"
   ]
  },
  {
   "cell_type": "code",
   "execution_count": 2,
   "id": "fecae98c-7e5c-46db-a4a8-ca9691ddb2a1",
   "metadata": {},
   "outputs": [],
   "source": [
    "%run -i 'init.py'"
   ]
  },
  {
   "cell_type": "code",
   "execution_count": 3,
   "id": "e368e412-2be2-4ba5-b828-e36064c5c492",
   "metadata": {},
   "outputs": [],
   "source": [
    "obs_set = obstacle_set()\n",
    "obs_set.add_obs(np.array([0.65, -0.05, 0.7]), l = 0.05, col_r = 0.15)\n",
    "obs_set.add_obs(np.array([0.65, -0.15, 0.45]), l = 0.1, col_r = 0.15)\n",
    "obs_set.add_obs(np.array([0.65, -0.25, 0.7]), l = 0.1, col_r = 0.15)\n",
    "obs_num = obs_set.obs_num"
   ]
  },
  {
   "cell_type": "code",
   "execution_count": 4,
   "id": "1937656f-4ec6-482b-ba13-c2cfb5e2502b",
   "metadata": {},
   "outputs": [],
   "source": [
    "# endeff frame translation goal\n",
    "endeff_frame_id = pin_model.getFrameId(\"contact\")\n",
    "endeff_joint_id = pin_model.getJointId(\"contact\")\n",
    "# endeff_translation = pin_data.oMf[endeff_frame_id].translation.copy()\n",
    "endeff_translation = np.array([0.4,  -0.5,  0.35])"
   ]
  },
  {
   "cell_type": "code",
   "execution_count": 5,
   "id": "f74b109a-e161-4905-bd6f-237102501786",
   "metadata": {},
   "outputs": [],
   "source": [
    "w_run = {\n",
    "    'translation': .5,\n",
    "    'xReg': 0.1,\n",
    "    'uReg': 0.0001\n",
    "}\n",
    "\n",
    "w_term = {\n",
    "    'translation': 10,\n",
    "    'xReg': 0.1\n",
    "}"
   ]
  },
  {
   "cell_type": "code",
   "execution_count": 6,
   "id": "6f1a7d7c-e146-4e37-b057-5776d5d99f1d",
   "metadata": {},
   "outputs": [],
   "source": [
    "c=0\n",
    "for _ in range(obs_set.obs_num): # Adding Obstacle weights\n",
    "    w_run['collision'+str(c)] = 1000\n",
    "    w_term['collision'+str(c)] = 1000\n",
    "    c+=1\n",
    "\n",
    "w_run = dict(sorted(w_run.items()))\n",
    "w_term = dict(sorted(w_term.items()))\n",
    "\n",
    "w_run, w_term = normalize_w(w_run, w_term)"
   ]
  },
  {
   "cell_type": "code",
   "execution_count": 7,
   "id": "5365e92f-3cab-4a01-b757-76e602f83eaf",
   "metadata": {},
   "outputs": [
    {
     "name": "stderr",
     "output_type": "stream",
     "text": [
      "/home/sarmad/machines-in-motion/my_git/IRL_Kuka/Kuka_utils.py:29: UserWarning: Deprecated member. Use Frame.parentJoint instead.\n",
      "  m.frames[pin_model.getFrameId(\"universe\")].parent,\n",
      "/home/sarmad/machines-in-motion/my_git/IRL_Kuka/Kuka_utils.py:27: UserWarning: This function has been marked as deprecated and will be removed in a future release.\n",
      "  obsObj = pin.GeometryObject(\"obstacle\"+str(num_obs),\n"
     ]
    }
   ],
   "source": [
    "dt = 1e-2\n",
    "T = 150\n",
    "\n",
    "solver = init_robot(robot_simulator, q0, v0, obs_set, endeff_translation, w_run, w_term, dt, T)\n",
    "\n",
    "Keys_run = solver.problem.runningDatas[0].differential.costs.costs.todict().keys()\n",
    "Keys_term = solver.problem.terminalData.differential.costs.costs.todict().keys()\n",
    "nr_run = len(Keys_run); nr_term = len(Keys_term); nr = nr_run + nr_term\n",
    "\n",
    "xs_init = [x0 for i in range(T+1)]\n",
    "us_init = solver.problem.quasiStatic(xs_init[:-1])"
   ]
  },
  {
   "cell_type": "code",
   "execution_count": 19,
   "id": "a10812c3-b5ed-4335-b4cc-15928948c58c",
   "metadata": {},
   "outputs": [],
   "source": [
    "def get_single_feature(solver, xs, us, ind):\n",
    "    keys_run = list(solver.problem.runningModels[0].differential.costs.costs.todict().keys())\n",
    "    nr_run = len(keys_run)\n",
    "    keys_term = list(solver.problem.terminalModel.differential.costs.costs.todict().keys())\n",
    "    nr_term = len(keys_term)\n",
    "    nr = nr_run + nr_term\n",
    "    Phi = np.zeros(nr)\n",
    "    x = xs[ind]\n",
    "    u = us[ind]\n",
    "    solver.problem.runningModels[ind].differential.actuation.calc(solver.problem.runningDatas[ind].differential.multibody.actuation, x, u)\n",
    "    solver.problem.runningModels[ind].differential.actuation.calcDiff(solver.problem.runningDatas[ind].differential.multibody.actuation, x, u)\n",
    "    for j, k in enumerate(keys_run):\n",
    "        solver.problem.runningModels[ind].differential.costs.costs[k].cost.calc(solver.problem.runningDatas[ind].differential.costs.costs[k], x, u)\n",
    "        solver.problem.runningModels[ind].differential.costs.costs[k].cost.calcDiff(solver.problem.runningDatas[ind].differential.costs.costs[k], x, u)\n",
    "        Phi[j] = solver.problem.runningDatas[ind].differential.costs.costs[k].cost\n",
    "\n",
    "    return Phi\n",
    "\n",
    "def get_traj_features(solver, xs, us):\n",
    "    keys_run = list(solver.problem.runningModels[0].differential.costs.costs.todict().keys())\n",
    "    nr_run = len(keys_run)\n",
    "    keys_term = list(solver.problem.terminalModel.differential.costs.costs.todict().keys())\n",
    "    nr_term = len(keys_term)\n",
    "    nr = nr_run + nr_term\n",
    "    Phi = np.zeros(nr)\n",
    "    Phi_set = []\n",
    "\n",
    "    X = xs[-1]\n",
    "    # solver.problem.terminalModel.differential.actuation.calc(solver.problem.terminalData.differential.multibody.actuation, X)\n",
    "    # solver.problem.terminalModel.differential.actuation.calcDiff(solver.problem.terminalData.differential.multibody.actuation, X)\n",
    "    for j, k in enumerate(keys_term):\n",
    "        solver.problem.terminalModel.differential.costs.costs[k].cost.calc(solver.problem.terminalData.differential.costs.costs[k], X)\n",
    "        solver.problem.terminalModel.differential.costs.costs[k].cost.calcDiff(solver.problem.terminalData.differential.costs.costs[k], X)\n",
    "        Phi[j + nr_run] += solver.problem.terminalData.differential.costs.costs[k].cost\n",
    "    Phi_set.append(Phi.copy())\n",
    "        \n",
    "    # Running Features\n",
    "    for i in range(T-1,-1,-1):\n",
    "        X = xs[i]; U = us[i]\n",
    "        solver.problem.runningModels[i].differential.actuation.calc(solver.problem.runningDatas[i].differential.multibody.actuation, X, U)\n",
    "        solver.problem.runningModels[i].differential.actuation.calcDiff(solver.problem.runningDatas[i].differential.multibody.actuation, X, U)\n",
    "        for j, k in enumerate(keys_run):\n",
    "            solver.problem.runningModels[i].differential.costs.costs[k].cost.calc(solver.problem.runningDatas[i].differential.costs.costs[k], X, U)\n",
    "            solver.problem.runningModels[i].differential.costs.costs[k].cost.calcDiff(solver.problem.runningDatas[i].differential.costs.costs[k], X, U)\n",
    "            Phi[j] += solver.problem.runningDatas[i].differential.costs.costs[k].cost\n",
    "        Phi_set.append(Phi.copy())\n",
    "    \n",
    "    return Phi, Phi_set"
   ]
  },
  {
   "cell_type": "code",
   "execution_count": 9,
   "id": "8b8ff74f-8421-4d70-9f6a-5f0be93fb0ae",
   "metadata": {},
   "outputs": [
    {
     "name": "stdout",
     "output_type": "stream",
     "text": [
      "[ 0.2  0.7  0.3 -1.1 -0.3  0.3  0.   0.   0.   0.   0.   0.   0.   0. ]\n",
      "[-1.7764e-15 -5.7920e+01  3.4617e+00  2.4774e+01 -1.2829e+00 -3.5516e-01  0.0000e+00]\n",
      "1991.1206552211158\n",
      "tau:  [0. 0. 0. 0. 0. 0. 0.]\n",
      "Grav:  [-1.7764e-15 -5.7920e+01  3.4617e+00  2.4774e+01 -1.2829e+00 -3.5516e-01  0.0000e+00]\n",
      "Residual:  [0. 0. 0. 0. 0. 0. 0.]\n",
      "U - Grav:  [ 1.7764e-15  5.7920e+01 -3.4617e+00 -2.4774e+01  1.2829e+00  3.5516e-01  0.0000e+00]\n",
      "0.0\n",
      "1991.1206552211158\n"
     ]
    }
   ],
   "source": [
    "print(xs_init[50])\n",
    "print(us_init[50])\n",
    "print(0.5*(np.sum(us_init[50]*us_init[50])))\n",
    "G = pin.computeGeneralizedGravity(solver.problem.runningModels[50].state.pinocchio, solver.problem.runningDatas[50].differential.pinocchio, xs_init[50][:7])\n",
    "R = solver.problem.runningDatas[50].differential.costs.costs['uReg'].residual.r\n",
    "tau = solver.problem.runningDatas[50].differential.costs.costs['uReg'].shared.actuation.tau\n",
    "u = solver.problem.runningDatas[50].differential.costs.costs['uReg'].shared.actuation.u\n",
    "print('tau: ', tau)\n",
    "print('Grav: ', G)\n",
    "print('Residual: ', R)\n",
    "print('U - Grav: ', tau - G)\n",
    "r = u - G\n",
    "print(0.5*R.dot(R))\n",
    "print(0.5*r.dot(r))"
   ]
  },
  {
   "cell_type": "code",
   "execution_count": 15,
   "id": "a0dade2e-ab05-4692-80b0-3c68737f5855",
   "metadata": {},
   "outputs": [
    {
     "data": {
      "text/plain": [
       "array([0.    , 0.    , 0.    , 0.3684, 0.    , 0.    , 0.    , 0.    , 0.    , 0.    , 0.    ])"
      ]
     },
     "execution_count": 15,
     "metadata": {},
     "output_type": "execute_result"
    }
   ],
   "source": [
    "get_single_feature(solver, xs_init, us_init, 50)"
   ]
  },
  {
   "cell_type": "code",
   "execution_count": 11,
   "id": "eba7d939-b91a-4da9-8792-313cdeaa850a",
   "metadata": {},
   "outputs": [],
   "source": [
    "# # Solve \n",
    "update_solver_weights(solver, T, w_run, w_term)\n",
    "solver.termination_tolerance = 1e-4\n",
    "solver.with_callbacks = False\n",
    "solver.solve(xs_init.copy(), us_init.copy(), 500)\n",
    "xs_opt = solver.xs.copy()\n",
    "us_opt = solver.us.copy()"
   ]
  },
  {
   "cell_type": "code",
   "execution_count": 12,
   "id": "9b484940-1672-4ce6-a077-b4f770cc709a",
   "metadata": {},
   "outputs": [],
   "source": [
    "# solver.problem.runningModels[50].differential.actuation.calc(solver.problem.runningDatas[50].differential.multibody.actuation, xs_init[50], us_init[50])\n",
    "# solver.problem.runningModels[50].differential.actuation.calcDiff(solver.problem.runningDatas[50].differential.multibody.actuation, xs_init[50], us_init[50])"
   ]
  },
  {
   "cell_type": "code",
   "execution_count": 12,
   "id": "4a0875fb-16c5-4b88-8166-30b9bcb1bdd1",
   "metadata": {},
   "outputs": [
    {
     "name": "stdout",
     "output_type": "stream",
     "text": [
      "[0.     0.     0.     0.3684 0.     0.     0.     0.     0.     0.     0.    ]\n",
      "\n",
      "[-1.7764e-15 -5.7920e+01  3.4617e+00  2.4774e+01 -1.2829e+00 -3.5516e-01  0.0000e+00]\n",
      "tau:  [-1.7764e-15 -5.7920e+01  3.4617e+00  2.4774e+01 -1.2829e+00 -3.5516e-01  0.0000e+00]\n",
      "Grav:  [-1.7764e-15 -5.7920e+01  3.4617e+00  2.4774e+01 -1.2829e+00 -3.5516e-01  0.0000e+00]\n",
      "Residual:  [0. 0. 0. 0. 0. 0. 0.]\n",
      "U - Grav:  [0. 0. 0. 0. 0. 0. 0.]\n",
      "True residual:  [ 1.7764e-15  5.7920e+01 -3.4617e+00 -2.4774e+01  1.2829e+00  3.5516e-01  0.0000e+00]\n",
      "0.0\n",
      "1991.1206552211158\n"
     ]
    }
   ],
   "source": [
    "print(get_single_feature(solver, xs_init, us_init, 50))\n",
    "print()\n",
    "print(us_init[50])\n",
    "G = pin.computeGeneralizedGravity(solver.problem.runningModels[50].state.pinocchio, solver.problem.runningDatas[50].differential.pinocchio, xs_init[50][:7])\n",
    "R = solver.problem.runningDatas[50].differential.costs.costs['uReg'].residual.r\n",
    "tau = solver.problem.runningDatas[50].differential.costs.costs['uReg'].shared.actuation.tau\n",
    "u = solver.problem.runningDatas[50].differential.costs.costs['uReg'].shared.actuation.u\n",
    "print('tau: ', tau)\n",
    "print('Grav: ', G)\n",
    "print('Residual: ', R)\n",
    "print('U - Grav: ', tau - G)\n",
    "r = u - G\n",
    "print('True residual: ',  r)\n",
    "print(0.5*R.dot(R))\n",
    "print(0.5*r.dot(r))"
   ]
  },
  {
   "cell_type": "code",
   "execution_count": 16,
   "id": "88fc7ebf-feff-4904-9b63-d9b692e898dc",
   "metadata": {},
   "outputs": [
    {
     "name": "stdout",
     "output_type": "stream",
     "text": [
      "[1.7429e-06 0.0000e+00 0.0000e+00 1.2914e-01 2.3814e+01 1.8390e+00 0.0000e+00 0.0000e+00 0.0000e+00 0.0000e+00 0.0000e+00]\n"
     ]
    }
   ],
   "source": [
    "print(get_single_feature(solver, xs_opt, us_opt, 50))"
   ]
  },
  {
   "cell_type": "code",
   "execution_count": 17,
   "id": "57a8c6cb-0760-4a18-85a2-c3d149749230",
   "metadata": {},
   "outputs": [
    {
     "name": "stdout",
     "output_type": "stream",
     "text": [
      "[0.     0.     0.     0.3684 0.     0.     0.     0.     0.     0.     0.    ]\n"
     ]
    }
   ],
   "source": [
    "print(get_single_feature(solver, xs_init, us_init, 149))"
   ]
  },
  {
   "cell_type": "code",
   "execution_count": 20,
   "id": "0b19b5f9-23d3-441f-a543-19ff54dfbbfe",
   "metadata": {},
   "outputs": [],
   "source": [
    "p, ps = get_traj_features(solver, xs_opt, us_opt)"
   ]
  },
  {
   "cell_type": "code",
   "execution_count": 21,
   "id": "5eda48d8-33e4-4a6f-95dc-8a8a969e0b82",
   "metadata": {},
   "outputs": [
    {
     "name": "stdout",
     "output_type": "stream",
     "text": [
      "[2.2773e-05 9.6315e-05 2.0381e-05 1.5586e+01 5.4776e+03 2.4506e+02 0.0000e+00 0.0000e+00 0.0000e+00 2.8329e-04 6.3196e-01]\n",
      "[2.2773e-05 9.6315e-05 2.0381e-05 1.5586e+01 5.4776e+03 2.4506e+02 0.0000e+00 0.0000e+00 0.0000e+00 2.8329e-04 6.3196e-01]\n"
     ]
    },
    {
     "data": {
      "text/plain": [
       "[<matplotlib.lines.Line2D at 0x7c7ca84d5240>]"
      ]
     },
     "execution_count": 21,
     "metadata": {},
     "output_type": "execute_result"
    },
    {
     "data": {
      "image/png": "[encoded data removed]",
      "text/plain": [
       "<Figure size 640x480 with 1 Axes>"
      ]
     },
     "metadata": {},
     "output_type": "display_data"
    }
   ],
   "source": [
    "print(p)\n",
    "print(ps[-1])\n",
    "plt.plot(np.stack(ps)[:,4])"
   ]
  },
  {
   "cell_type": "code",
   "execution_count": 17,
   "id": "54451e65-706a-4ced-9c1d-6c64a8faf398",
   "metadata": {},
   "outputs": [
    {
     "ename": "NameError",
     "evalue": "name 'p_' is not defined",
     "output_type": "error",
     "traceback": [
      "\u001b[0;31m---------------------------------------------------------------------------\u001b[0m",
      "\u001b[0;31mNameError\u001b[0m                                 Traceback (most recent call last)",
      "Cell \u001b[0;32mIn[17], line 6\u001b[0m\n\u001b[1;32m      3\u001b[0m     ps_\u001b[38;5;241m.\u001b[39mappend(get_single_feature(solver, xs_opt, us_opt, i))\n\u001b[1;32m      5\u001b[0m ps_ \u001b[38;5;241m=\u001b[39m np\u001b[38;5;241m.\u001b[39mstack(ps_)\n\u001b[0;32m----> 6\u001b[0m \u001b[38;5;28mprint\u001b[39m(\u001b[43mp_\u001b[49m)\n\u001b[1;32m      7\u001b[0m \u001b[38;5;28mprint\u001b[39m(ps_[\u001b[38;5;241m-\u001b[39m\u001b[38;5;241m1\u001b[39m])\n",
      "\u001b[0;31mNameError\u001b[0m: name 'p_' is not defined"
     ]
    }
   ],
   "source": [
    "ps_ = []\n",
    "for i in range(T-1,-1,-1):\n",
    "    ps_.append(get_single_feature(solver, xs_opt, us_opt, i))\n",
    "\n",
    "ps_ = np.stack(ps_)\n",
    "print(p_)\n",
    "print(ps_[-1])"
   ]
  },
  {
   "cell_type": "code",
   "execution_count": null,
   "id": "ae4dd69c-0cf6-41cd-80cd-cbe0305a4043",
   "metadata": {},
   "outputs": [],
   "source": [
    "print(ps[0])\n",
    "print(p)\n"
   ]
  },
  {
   "cell_type": "code",
   "execution_count": null,
   "id": "1669f4f6-adb5-4acd-bcdd-5041a040eddf",
   "metadata": {},
   "outputs": [],
   "source": [
    "n = 40\n",
    "m = 30\n",
    "# m = n\n",
    "U = us_opt[m]; X = xs_opt[m]\n",
    "solver.problem.runningModels[n].differential.costs.costs['uReg'].cost.calc(solver.problem.runningDatas[n].differential.costs.costs['uReg'], X, U)\n",
    "solver.problem.runningModels[n].differential.costs.costs['uReg'].cost.calcDiff(solver.problem.runningDatas[n].differential.costs.costs['uReg'], X, U)\n",
    "print(solver.problem.runningDatas[n].differential.costs.costs['uReg'].cost)\n",
    "# print(U)\n",
    "m = solver.problem.runningModels[n].state.pinocchio\n",
    "d = solver.problem.runningDatas[n].differential.pinocchio\n",
    "pin.forwardKinematics(m,d,X[:m.nq],X[m.nq:])\n",
    "pin.framesForwardKinematics(m,d,X[:m.nq])\n",
    "pin.updateFramePlacements(m,d)\n",
    "pin.computeAllTerms(m,d,X[:m.nq],X[m.nq:])\n",
    "pin.computeJointJacobians(m,d, X[:m.nq])\n",
    "solver.problem.runningModels[n].differential.costs.costs['uReg'].cost.calc(solver.problem.runningDatas[n].differential.costs.costs['uReg'], X, U)\n",
    "solver.problem.runningModels[n].differential.costs.costs['uReg'].cost.calcDiff(solver.problem.runningDatas[n].differential.costs.costs['uReg'], X, U)\n",
    "print(solver.problem.runningDatas[n].differential.costs.costs['uReg'].cost)"
   ]
  },
  {
   "cell_type": "code",
   "execution_count": null,
   "id": "29445a72-4724-4fbc-a89c-a7a5111c3ce5",
   "metadata": {},
   "outputs": [],
   "source": [
    "R = solver.problem.runningDatas[n].differential.costs.costs['uReg'].residual.r\n",
    "print(R)\n",
    "print(U)\n",
    "C = solver.problem.runningDatas[n].differential.costs.costs['uReg'].cost\n",
    "print(0.5*R.dot(R))\n",
    "print(C)"
   ]
  },
  {
   "cell_type": "code",
   "execution_count": null,
   "id": "f1791ac4-3814-41ee-8fe5-a2b2996dd609",
   "metadata": {},
   "outputs": [],
   "source": [
    "random = np.random.randint(0,T)\n",
    "d = solver.problem.runningDatas[random].differential.multibody.pinocchio\n",
    "m = solver.problem.runningModels[random].differential.state.pinocchio\n",
    "# pin.computeAllTerms(m,d,X[:m.nq],X[m.nq:])\n",
    "# pin.computeJointJacobians(m,d, X[:m.nq])\n",
    "# G = pin.computeGeneralizedGravity(m,d,X[:m.nq])\n",
    "# del(d); del(m)\n",
    "l = 2\n",
    "U = us_opt[l]; X = xs_opt[l]\n",
    "G = pin.computeGeneralizedGravity(m,d,X[:m.nq])\n",
    "solver.problem.runningModels[l].differential.costs.costs['uReg'].cost.calc(solver.problem.runningDatas[l].differential.costs.costs['uReg'], X, U)\n",
    "solver.problem.runningModels[l].differential.costs.costs['uReg'].cost.calcDiff(solver.problem.runningDatas[l].differential.costs.costs['uReg'], X, U)\n",
    "# print(solver.problem.runningDatas[0].differential.costs.costs['translation'].residual.shared.joint.tau)\n",
    "R = solver.problem.runningDatas[l].differential.costs.costs['uReg'].residual.r\n",
    "R1 = solver.problem.runningDatas[l].differential.costs.costs['uReg'].residual.shared.joint.tau\n",
    "print('Gravity:', G)\n",
    "print('Tau:')\n",
    "print(R1)\n",
    "print(U)\n",
    "print('Residual:')\n",
    "print(R)\n",
    "print(U - G)\n"
   ]
  },
  {
   "cell_type": "code",
   "execution_count": null,
   "id": "228841a2-8788-4e88-9fe3-c8f8f01aedbc",
   "metadata": {},
   "outputs": [],
   "source": [
    "solver.problem.runningModels[l].differential."
   ]
  },
  {
   "cell_type": "code",
   "execution_count": null,
   "id": "da7fa529-c4b3-4f01-995b-a6c8f662493a",
   "metadata": {},
   "outputs": [],
   "source": [
    "solver.problem.runningModels[l].differential.costs.costs['uReg'].cost.calc()"
   ]
  },
  {
   "cell_type": "code",
   "execution_count": null,
   "id": "794c06f5-1089-4640-9297-c054ad58f988",
   "metadata": {},
   "outputs": [],
   "source": []
  }
 ],
 "metadata": {
  "kernelspec": {
   "display_name": "Python 3 (ipykernel)",
   "language": "python",
   "name": "python3"
  },
  "language_info": {
   "codemirror_mode": {
    "name": "ipython",
    "version": 3
   },
   "file_extension": ".py",
   "mimetype": "text/x-python",
   "name": "python",
   "nbconvert_exporter": "python",
   "pygments_lexer": "ipython3",
   "version": "3.10.12"
  }
 },
 "nbformat": 4,
 "nbformat_minor": 5
}
